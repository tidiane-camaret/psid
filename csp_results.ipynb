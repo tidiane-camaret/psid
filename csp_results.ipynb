{
 "cells": [
  {
   "cell_type": "code",
   "execution_count": 16,
   "metadata": {},
   "outputs": [
    {
     "data": {
      "image/png": "[encoded data removed]",
      "text/plain": [
       "<Figure size 432x288 with 2 Axes>"
      ]
     },
     "metadata": {
      "needs_background": "light"
     },
     "output_type": "display_data"
    }
   ],
   "source": [
    "import sys\n",
    "import matplotlib.pyplot as plt\n",
    "import pickle\n",
    "import mne\n",
    "import xgboost as xgb\n",
    "from sklearn.metrics import accuracy_score\n",
    "sys.path.append(\"..\")\n",
    "from utils.csp_example import custom_CSP, LDA, Pipeline\n",
    "from utils.features_utils import CSP_LDA_features, block_crossval\n",
    "\n",
    "csp_decoder = custom_CSP(n_components=4, log=True,\n",
    "                         cov_kwargs={'method': 'ledoit_wolf'})\n",
    "\n",
    "model = Pipeline(steps=[('spatial_filtering', csp_decoder),\n",
    "                        ('decoder', LDA())])\n",
    "\n",
    "#exps = [str(n) for n in range(3, 11)]\n",
    "exps = [\"1\"]\n",
    "\n",
    "for exp in exps:\n",
    "    #epochs = mne.read_epochs(\"data/VP\" + exp + \"_epo.fif\").crop(0, 6)\n",
    "    #ica_model = mne.preprocessing.read_ica(\"data/VP\" + exp + \"_ica.fif\")\n",
    "\n",
    "    bscores_lng = []\n",
    "    bscores_lno = []\n",
    "\n",
    "    search_range = range(128,132,1) #range(5, 35, 2)\n",
    "\n",
    "    with open('results/csp_' + exp + '_lng_acc.pickle', 'rb') as handle:\n",
    "        bscores_lng = pickle.load( handle)\n",
    "    with open('results/csp_' + exp + '_lno_acc.pickle', 'rb') as handle:\n",
    "        bscores_lng = pickle.load( handle)\n",
    "\n",
    "fig, axs = plt.subplots(1,2)\n",
    "axs[0].boxplot(bscores_lng,[str(n)+ \" \" + str(n+2) for n in search_range], )\n",
    "axs[0].set_title(\"csp accuracy for different freq ranges using leave_p_groups crossval\")\n",
    "axs[0].set_ylim(0,1)\n",
    "axs[1].boxplot(bscores_lno,[str(n)+ \" \" + str(n+2) for n in search_range])\n",
    "axs[1].set_title(\"csp accuracy for different freq ranges using my_leave_n_out crossval\")\n",
    "axs[1].set_ylim(0,1)\n",
    "plt.show()\n"
   ]
  },
  {
   "cell_type": "code",
   "execution_count": 13,
   "metadata": {},
   "outputs": [],
   "source": [
    "import sys\n",
    "import matplotlib.pyplot as plt\n",
    "import pickle\n",
    "import mne\n",
    "import xgboost as xgb"
   ]
  },
  {
   "cell_type": "code",
   "execution_count": 14,
   "metadata": {},
   "outputs": [
    {
     "name": "stdout",
     "output_type": "stream",
     "text": [
      "Reading /home/tidiane/dev/bsd_lab/psid/data/VP8_300hz_epo.fif ...\n",
      "    Found the data of interest:\n",
      "        t =   -2000.00 ...    7503.33 ms\n",
      "        0 CTF compensation matrices available\n",
      "0 bad epochs dropped\n",
      "Not setting metadata\n",
      "212 matching events found\n",
      "No baseline correction applied\n",
      "0 projection items activated\n"
     ]
    },
    {
     "data": {
      "text/plain": [
       "['Fp1',\n",
       " 'Fp2',\n",
       " 'F3',\n",
       " 'F4',\n",
       " 'C3',\n",
       " 'C4',\n",
       " 'P3',\n",
       " 'P4',\n",
       " 'O1',\n",
       " 'O2',\n",
       " 'F7',\n",
       " 'F8',\n",
       " 'T7',\n",
       " 'T8',\n",
       " 'P7',\n",
       " 'P8',\n",
       " 'Fz',\n",
       " 'Cz',\n",
       " 'Pz',\n",
       " 'FC1',\n",
       " 'FC2',\n",
       " 'CP1',\n",
       " 'CP2',\n",
       " 'FC5',\n",
       " 'FC6',\n",
       " 'CP5',\n",
       " 'CP6',\n",
       " 'F9',\n",
       " 'F10',\n",
       " 'P9',\n",
       " 'P10',\n",
       " 'AF7',\n",
       " 'AF3',\n",
       " 'AF4',\n",
       " 'AF8',\n",
       " 'F5',\n",
       " 'F1',\n",
       " 'F2',\n",
       " 'F6',\n",
       " 'FT7',\n",
       " 'FC3',\n",
       " 'FCz',\n",
       " 'FC4',\n",
       " 'FT8',\n",
       " 'C5',\n",
       " 'C1',\n",
       " 'C2',\n",
       " 'C6',\n",
       " 'TP7',\n",
       " 'CP3',\n",
       " 'CPz',\n",
       " 'CP4',\n",
       " 'TP8',\n",
       " 'P5',\n",
       " 'P1',\n",
       " 'P2',\n",
       " 'P6',\n",
       " 'PO7',\n",
       " 'PO5',\n",
       " 'POz',\n",
       " 'PO6',\n",
       " 'PO8',\n",
       " 'Oz',\n",
       " 'EOGvu',\n",
       " 'x_EMG1',\n",
       " 'x_EMG2',\n",
       " 'x_EMG3',\n",
       " 'x_EMG4',\n",
       " 'x_resp',\n",
       " 'x_pulse',\n",
       " 'dist_t_n',\n",
       " 'pos_t_x',\n",
       " 'pos_t_y',\n",
       " 'speed_t_x',\n",
       " 'speed_t_y',\n",
       " 'accel_t_x',\n",
       " 'accel_t_y',\n",
       " 'jerk_t_x',\n",
       " 'jerk_t_y',\n",
       " 'blk_idx',\n",
       " 'trial_nbr',\n",
       " 'stim']"
      ]
     },
     "execution_count": 14,
     "metadata": {},
     "output_type": "execute_result"
    }
   ],
   "source": [
    "mne.read_epochs(\"data/VP8_300hz_epo.fif\").info['ch_names']\n"
   ]
  },
  {
   "cell_type": "code",
   "execution_count": 15,
   "metadata": {},
   "outputs": [
    {
     "name": "stdout",
     "output_type": "stream",
     "text": [
      "Reading /home/tidiane/dev/bsd_lab/psid/data/VP8_epo.fif ...\n",
      "    Found the data of interest:\n",
      "        t =   -2000.00 ...    7503.33 ms\n",
      "        0 CTF compensation matrices available\n",
      "0 bad epochs dropped\n",
      "Not setting metadata\n",
      "212 matching events found\n",
      "No baseline correction applied\n",
      "0 projection items activated\n"
     ]
    },
    {
     "data": {
      "text/plain": [
       "63"
      ]
     },
     "execution_count": 15,
     "metadata": {},
     "output_type": "execute_result"
    }
   ],
   "source": [
    "len(mne.read_epochs(\"data/VP8_epo.fif\").pick_types(eeg=True).info['ch_names'])"
   ]
  },
  {
   "cell_type": "code",
   "execution_count": null,
   "metadata": {},
   "outputs": [],
   "source": []
  }
 ],
 "metadata": {
  "kernelspec": {
   "display_name": "Python 3.7.5 ('env')",
   "language": "python",
   "name": "python3"
  },
  "language_info": {
   "codemirror_mode": {
    "name": "ipython",
    "version": 3
   },
   "file_extension": ".py",
   "mimetype": "text/x-python",
   "name": "python",
   "nbconvert_exporter": "python",
   "pygments_lexer": "ipython3",
   "version": "3.7.5"
  },
  "orig_nbformat": 4,
  "vscode": {
   "interpreter": {
    "hash": "b9e9935098c8edab0f2d262d9678d683bd15c9c0e01fb34590ee3017b7f97972"
   }
  }
 },
 "nbformat": 4,
 "nbformat_minor": 2
}

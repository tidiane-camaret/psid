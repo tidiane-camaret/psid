{
 "cells": [
  {
   "cell_type": "code",
   "execution_count": 14,
   "metadata": {},
   "outputs": [],
   "source": [
    "import pickle\n",
    "with open('results/psid_features_result_dicts.pickle', 'rb') as handle:\n",
    "        result_dicts = pickle.load(handle)#, protocol=pickle.HIGHEST_PROTOCOL)"
   ]
  },
  {
   "cell_type": "code",
   "execution_count": 17,
   "metadata": {},
   "outputs": [
    {
     "data": {
      "text/plain": [
       "dict_keys(['Z_true', 'Z_pred', 'Y_true', 'Y_pred', 'X_train', 'y_train', 'X_test', 'y_test'])"
      ]
     },
     "execution_count": 17,
     "metadata": {},
     "output_type": "execute_result"
    }
   ],
   "source": [
    "result_dicts[0].keys()"
   ]
  },
  {
   "cell_type": "code",
   "execution_count": 23,
   "metadata": {},
   "outputs": [
    {
     "data": {
      "text/plain": [
       "nan"
      ]
     },
     "execution_count": 23,
     "metadata": {},
     "output_type": "execute_result"
    }
   ],
   "source": [
    "result_dicts[0]['X_train'][0][-1]"
   ]
  },
  {
   "cell_type": "code",
   "execution_count": 3,
   "metadata": {},
   "outputs": [],
   "source": [
    "import mne\n",
    "exp = \"1\""
   ]
  },
  {
   "cell_type": "code",
   "execution_count": 4,
   "metadata": {},
   "outputs": [
    {
     "name": "stdout",
     "output_type": "stream",
     "text": [
      "Reading /home/tidiane/dev/bsd_lab/psid/data/VP1_epo.fif ...\n",
      "    Found the data of interest:\n",
      "        t =   -2000.00 ...    9010.00 ms\n",
      "        0 CTF compensation matrices available\n",
      "0 bad epochs dropped\n",
      "Not setting metadata\n",
      "120 matching events found\n",
      "No baseline correction applied\n",
      "0 projection items activated\n",
      "Reading data/VP1_ica.fif ...\n",
      "Now restoring ICA solution ...\n",
      "Ready.\n"
     ]
    }
   ],
   "source": [
    "epochs = mne.read_epochs(\"data/VP\" + exp + \"_epo.fif\")\n",
    "ica_model = mne.preprocessing.read_ica(\"data/VP\" + exp + \"_ica.fif\")"
   ]
  },
  {
   "cell_type": "code",
   "execution_count": 7,
   "metadata": {},
   "outputs": [
    {
     "data": {
      "text/plain": [
       "300.0"
      ]
     },
     "execution_count": 7,
     "metadata": {},
     "output_type": "execute_result"
    }
   ],
   "source": [
    "epochs.info[\"sfreq\"]"
   ]
  },
  {
   "cell_type": "code",
   "execution_count": 12,
   "metadata": {},
   "outputs": [
    {
     "name": "stdout",
     "output_type": "stream",
     "text": [
      "[(5.0, 8.0)]\n",
      "[(8.0, 9.666666666666666), (9.666666666666666, 11.333333333333334), (11.333333333333334, 13.0)]\n",
      "[(13.0, 18.666666666666668), (18.666666666666668, 24.333333333333336), (24.333333333333336, 30.0)]\n",
      "[(128.0, 132.0)]\n"
     ]
    }
   ],
   "source": [
    "import numpy as np\n",
    "freq_ranges = [(5, 8), (8, 13), (13, 30), (128, 132)]\n",
    "freq_nbs = [1, 3, 3, 1]\n",
    "\n",
    "fb = []\n",
    "for i_, f in enumerate(freq_ranges):\n",
    "    points = np.linspace(f[0], f[1], num=freq_nbs[i_] + 1)\n",
    "    print([(points[i], points[i + 1]) for i in range(len(points) - 1)])\n",
    "    fb += [(points[i], points[i + 1]) for i in range(len(points) - 1)]"
   ]
  },
  {
   "cell_type": "code",
   "execution_count": 5,
   "metadata": {},
   "outputs": [
    {
     "name": "stdout",
     "output_type": "stream",
     "text": [
      "Reading /home/tidiane/dev/bsd_lab/psid/data/VP8_epo.fif ...\n",
      "    Found the data of interest:\n",
      "        t =   -2000.00 ...    7503.33 ms\n",
      "        0 CTF compensation matrices available\n",
      "0 bad epochs dropped\n",
      "Not setting metadata\n",
      "215 matching events found\n",
      "No baseline correction applied\n",
      "0 projection items activated\n"
     ]
    },
    {
     "data": {
      "text/html": [
       "<table class=\"table table-hover table-striped table-sm table-responsive small\">\n",
       "    <tr>\n",
       "        <th>Number of events</th>\n",
       "        <td>215</td>\n",
       "    </tr>\n",
       "    <tr>\n",
       "        <th>Events</th>\n",
       "        \n",
       "        <td>11: 36<br/>12: 36<br/>13: 36<br/>14: 36<br/>15: 36<br/>16: 35</td>\n",
       "        \n",
       "    </tr>\n",
       "    <tr>\n",
       "        <th>Time range</th>\n",
       "        <td>-2.000 – 7.503 sec</td>\n",
       "    </tr>\n",
       "    <tr>\n",
       "        <th>Baseline</th>\n",
       "        <td>-2.000 – 0.000 sec</td>\n",
       "    </tr>\n",
       "</table>"
      ],
      "text/plain": [
       "<EpochsFIF |  215 events (all good), -2 - 7.50333 sec, baseline -2 – 0 sec, ~383.7 MB, data loaded,\n",
       " '11': 36\n",
       " '12': 36\n",
       " '13': 36\n",
       " '14': 36\n",
       " '15': 36\n",
       " '16': 35>"
      ]
     },
     "execution_count": 5,
     "metadata": {},
     "output_type": "execute_result"
    }
   ],
   "source": [
    "import mne \n",
    "mne.read_epochs(\"data/VP8_epo.fif\")"
   ]
  },
  {
   "cell_type": "code",
   "execution_count": 6,
   "metadata": {},
   "outputs": [
    {
     "name": "stdout",
     "output_type": "stream",
     "text": [
      "Reading /home/tidiane/dev/bsd_lab/psid/data/VP8_epo.fif ...\n",
      "    Found the data of interest:\n",
      "        t =   -2000.00 ...    7503.33 ms\n",
      "        0 CTF compensation matrices available\n",
      "0 bad epochs dropped\n",
      "Not setting metadata\n",
      "215 matching events found\n",
      "No baseline correction applied\n",
      "0 projection items activated\n",
      "Reading data/VP8_ica.fif ...\n",
      "Now restoring ICA solution ...\n",
      "Ready.\n",
      "NB SPLITS :  9\n"
     ]
    },
    {
     "name": "stderr",
     "output_type": "stream",
     "text": [
      "/home/tidiane/dev/bsd_lab/psid/utils/psid_standalone_original.py:86: RuntimeWarning: invalid value encountered in true_divide\n",
      "  Z = np.nan_to_num((Z.data - means_z) / std_z)\n"
     ]
    },
    {
     "name": "stdout",
     "output_type": "stream",
     "text": [
      "================================================================================\n",
      "Processing split 1\n",
      "(28, 547584) (10, 547584)\n"
     ]
    }
   ],
   "source": [
    "import matplotlib.pyplot as plt\n",
    "from psid_accuracy import psid_metrics\n",
    "\n",
    "#exps = [str(n) for n in [\"1\"]]\n",
    "behav_var_list = [\"all\"]#,\"stim\",\"no_stim\"]\n",
    "n1_list = [2,5,10,15,20,30]\n",
    "n1 = 5\n",
    "corr_list, dist_list, scores_list, scores_test_only_list = [], [], [], []\n",
    "\n",
    "\n",
    "exp = \"1\"\n",
    "for behav_var in behav_var_list:\n",
    "\n",
    "    #with open('../results/psid_features_' + exp + \"_\" + behav_var + \"_n1_\" + str(n1) + '.pickle', 'rb') as handle:\n",
    "    #    result_dicts = pickle.load(handle)#, protocol=pickle.HIGHEST_PROTOCOL)\n",
    "\n",
    "    with open('results/psid_features_result_dicts.pickle', 'rb') as handle:\n",
    "        result_dicts = pickle.load(handle)#, protocol=pickle.HIGHEST_PROTOCOL)\n",
    "\n",
    "    corr, dist, scores, scores_test_only = psid_metrics(result_dicts)\n",
    "    corr_list.append(corr)\n",
    "    dist_list.append(dist)\n",
    "    scores_list.append(scores)\n",
    "    scores_test_only_list.append(scores_test_only)\n",
    "\n",
    "plt.boxplot(corr_list, labels=behav_var_list)\n",
    "plt.title(\"Kendall's Tau\")\n",
    "plt.show()\n",
    "plt.boxplot(dist_list, labels=behav_var_list)\n",
    "plt.title(\"Distance\")\n",
    "plt.show()\n",
    "plt.boxplot(scores_list, labels=behav_var_list)\n",
    "plt.title(\"classif accuracy\")\n",
    "plt.show()\n",
    "plt.boxplot(scores_test_only_list,  labels=behav_var_list)\n",
    "plt.title(\"classif accuracy (on test data only)\")\n",
    "plt.show()"
   ]
  }
 ],
 "metadata": {
  "kernelspec": {
   "display_name": "Python 3.7.5 ('env')",
   "language": "python",
   "name": "python3"
  },
  "language_info": {
   "codemirror_mode": {
    "name": "ipython",
    "version": 3
   },
   "file_extension": ".py",
   "mimetype": "text/x-python",
   "name": "python",
   "nbconvert_exporter": "python",
   "pygments_lexer": "ipython3",
   "version": "3.7.5"
  },
  "orig_nbformat": 4,
  "vscode": {
   "interpreter": {
    "hash": "b9e9935098c8edab0f2d262d9678d683bd15c9c0e01fb34590ee3017b7f97972"
   }
  }
 },
 "nbformat": 4,
 "nbformat_minor": 2
}

{
 "cells": [
  {
   "cell_type": "code",
   "execution_count": 1,
   "id": "966acd49",
   "metadata": {},
   "outputs": [],
   "source": [
    "import os\n",
    "import sys\n",
    "\n",
    "import matplotlib.pyplot as plt\n",
    "import pickle\n",
    "import numpy as np "
   ]
  },
  {
   "cell_type": "code",
   "execution_count": 2,
   "id": "db270489",
   "metadata": {},
   "outputs": [],
   "source": [
    "def plot_psid_results(exp):\n",
    "    with open('results/psid_' + exp + '_acc.pickle', 'rb') as handle:\n",
    "        bscores, bscores_f = pickle.load(handle)\n",
    "\n",
    "    #print(bscores_f[0])\n",
    "    #fig, axs = plt.subplots(2)\n",
    "\n",
    "    \n",
    "    print(\"PSID - mean accuracy :  \",np.mean(bscores[0]))\n",
    "\n",
    "    #print(\"PSID - mean accuracy (filtered data) : \", np.mean(bscores_f[0]))\n",
    "    plt.boxplot(bscores[0])\n",
    "    plt.show()\n",
    "    print(\"PSID - XGB FEATURE IMPORTANCE\")\n",
    "    \n",
    "    for i in range(len(bscores[1])):\n",
    "        plt.imshow(bscores[1][i].reshape((7,20)))\n",
    "        plt.show()"
   ]
  },
  {
   "cell_type": "code",
   "execution_count": 7,
   "id": "b3111ca6",
   "metadata": {},
   "outputs": [],
   "source": [
    "from sklearn.discriminant_analysis import LinearDiscriminantAnalysis\n",
    "model = LinearDiscriminantAnalysis()"
   ]
  },
  {
   "cell_type": "code",
   "execution_count": 8,
   "id": "6ab32f4f",
   "metadata": {},
   "outputs": [],
   "source": [
    "from sklearn.metrics import roc_auc_score, make_scorer, accuracy_score\n",
    "def auc_scoring(y, y_pred):\n",
    "    auc_threshold = np.median(y)\n",
    "    print(auc_threshold)\n",
    "    ix_true = np.where(y > auc_threshold)[0]\n",
    "    y_binary = np.zeros(y.shape)\n",
    "    y_binary[ix_true] = 1\n",
    "    score = roc_auc_score(y_binary, y_pred - auc_threshold)\n",
    "    print()\n",
    "    return score\n",
    "sys.path.append(\"..\")\n",
    "from utils.utils import block_crossval"
   ]
  },
  {
   "cell_type": "code",
   "execution_count": 11,
   "id": "902cd5ce",
   "metadata": {},
   "outputs": [],
   "source": [
    "def psid_classification(exp,\n",
    "                       metric = roc_auc_score,\n",
    "                       freq_buckets = [0,1,2,3,4,5,6],\n",
    "                       psid_dims = list(range(20)),\n",
    "                       filtered = \"_filtered\"\n",
    "                       ):\n",
    "    metric = roc_auc_score #accuracy_score #auc_scoring\n",
    "\n",
    "    with open('results/psid_'+exp+filtered+'.pickle', 'rb') as handle:\n",
    "        X, y, blocks_idx = pickle.load(handle)\n",
    "    nb_obs = X.shape[0]\n",
    "    #print(X.shape)\n",
    "    X = X.reshape((nb_obs,7,20))\n",
    "    #print(X.shape)\n",
    "    X = X[:, freq_buckets , :] \n",
    "    #print(X.shape)\n",
    "    X = X[:,:,psid_dims]\n",
    "    #print(X.shape)\n",
    "    X = X.reshape((nb_obs,-1))\n",
    "    #print(X.shape)\n",
    "\n",
    "    crossval_res = block_crossval(X, y, model, blocks_idx, \n",
    "                                  metric = metric,\n",
    "                                  do_plot=True, \n",
    "                                  do_feature_imp=False)\n",
    "\n",
    "    return crossval_res"
   ]
  },
  {
   "cell_type": "code",
   "execution_count": 12,
   "id": "01be3bbf",
   "metadata": {},
   "outputs": [
    {
     "name": "stdout",
     "output_type": "stream",
     "text": [
      "================================================================================\n",
      "Processing split 1\n",
      "================================================================================\n",
      "Processing split 2\n",
      "================================================================================\n",
      "Processing split 3\n",
      "================================================================================\n",
      "Processing split 4\n",
      "================================================================================\n",
      "Processing split 5\n",
      "Scores: [0.9583333333333333, 0.8888888888888888, 0.9027777777777778, 0.9027777777777778, 0.986111111111111] - 92.78%\n"
     ]
    },
    {
     "data": {
      "image/png": "[encoded data removed]",
      "text/plain": [
       "<Figure size 432x288 with 1 Axes>"
      ]
     },
     "metadata": {
      "needs_background": "light"
     },
     "output_type": "display_data"
    },
    {
     "name": "stdout",
     "output_type": "stream",
     "text": [
      "0.9583333333333333\n",
      "PSID - XGB FEATURE IMPORTANCE\n"
     ]
    },
    {
     "ename": "TypeError",
     "evalue": "object of type 'numpy.float64' has no len()",
     "output_type": "error",
     "traceback": [
      "\u001b[0;31m---------------------------------------------------------------------------\u001b[0m",
      "\u001b[0;31mTypeError\u001b[0m                                 Traceback (most recent call last)",
      "\u001b[0;32m/tmp/ipykernel_19779/720837045.py\u001b[0m in \u001b[0;36m<module>\u001b[0;34m\u001b[0m\n\u001b[1;32m      6\u001b[0m \u001b[0mprint\u001b[0m\u001b[0;34m(\u001b[0m\u001b[0;34m\"PSID - XGB FEATURE IMPORTANCE\"\u001b[0m\u001b[0;34m)\u001b[0m\u001b[0;34m\u001b[0m\u001b[0;34m\u001b[0m\u001b[0m\n\u001b[1;32m      7\u001b[0m \u001b[0;34m\u001b[0m\u001b[0m\n\u001b[0;32m----> 8\u001b[0;31m \u001b[0;32mfor\u001b[0m \u001b[0mi\u001b[0m \u001b[0;32min\u001b[0m \u001b[0mrange\u001b[0m\u001b[0;34m(\u001b[0m\u001b[0mlen\u001b[0m\u001b[0;34m(\u001b[0m\u001b[0mres\u001b[0m\u001b[0;34m[\u001b[0m\u001b[0;36m1\u001b[0m\u001b[0;34m]\u001b[0m\u001b[0;34m)\u001b[0m\u001b[0;34m)\u001b[0m\u001b[0;34m:\u001b[0m\u001b[0;34m\u001b[0m\u001b[0;34m\u001b[0m\u001b[0m\n\u001b[0m\u001b[1;32m      9\u001b[0m     \u001b[0mplt\u001b[0m\u001b[0;34m.\u001b[0m\u001b[0mimshow\u001b[0m\u001b[0;34m(\u001b[0m\u001b[0mres\u001b[0m\u001b[0;34m[\u001b[0m\u001b[0;36m1\u001b[0m\u001b[0;34m]\u001b[0m\u001b[0;34m[\u001b[0m\u001b[0mi\u001b[0m\u001b[0;34m]\u001b[0m\u001b[0;34m.\u001b[0m\u001b[0mreshape\u001b[0m\u001b[0;34m(\u001b[0m\u001b[0;34m(\u001b[0m\u001b[0mlen\u001b[0m\u001b[0;34m(\u001b[0m\u001b[0mfreq_buckets\u001b[0m\u001b[0;34m)\u001b[0m\u001b[0;34m,\u001b[0m\u001b[0mlen\u001b[0m\u001b[0;34m(\u001b[0m\u001b[0mpsid_dims\u001b[0m\u001b[0;34m)\u001b[0m\u001b[0;34m)\u001b[0m\u001b[0;34m)\u001b[0m\u001b[0;34m)\u001b[0m\u001b[0;34m\u001b[0m\u001b[0;34m\u001b[0m\u001b[0m\n\u001b[1;32m     10\u001b[0m     \u001b[0mplt\u001b[0m\u001b[0;34m.\u001b[0m\u001b[0mshow\u001b[0m\u001b[0;34m(\u001b[0m\u001b[0;34m)\u001b[0m\u001b[0;34m\u001b[0m\u001b[0;34m\u001b[0m\u001b[0m\n",
      "\u001b[0;31mTypeError\u001b[0m: object of type 'numpy.float64' has no len()"
     ]
    }
   ],
   "source": [
    "freq_buckets = [0,1,2,3,4,5,6]\n",
    "psid_dims = list(range(20))\n",
    "res = psid_classification(exp=\"1\",\n",
    "                         metric=roc_auc_score,)\n",
    "print(np.mean(res[0]))\n",
    "print(\"PSID - XGB FEATURE IMPORTANCE\")\n"
   ]
  },
  {
   "cell_type": "code",
   "execution_count": 34,
   "id": "ffde0227",
   "metadata": {},
   "outputs": [
    {
     "name": "stdout",
     "output_type": "stream",
     "text": [
      "================================================================================\n",
      "Processing split 1\n",
      "================================================================================\n",
      "Processing split 2\n",
      "================================================================================\n",
      "Processing split 3\n",
      "================================================================================\n",
      "Processing split 4\n",
      "================================================================================\n",
      "Processing split 5\n",
      "Scores: [0.9861111111111112, 0.9583333333333333, 0.9166666666666667, 0.875, 0.9444444444444444] - 93.61%\n"
     ]
    },
    {
     "data": {
      "image/png": "[encoded data removed]",
      "text/plain": [
       "<Figure size 432x288 with 1 Axes>"
      ]
     },
     "metadata": {
      "needs_background": "light"
     },
     "output_type": "display_data"
    },
    {
     "name": "stdout",
     "output_type": "stream",
     "text": [
      "0.9361111111111111\n",
      "PSID - XGB FEATURE IMPORTANCE\n"
     ]
    },
    {
     "data": {
      "image/png": "[encoded data removed]",
      "text/plain": [
       "<Figure size 432x288 with 1 Axes>"
      ]
     },
     "metadata": {
      "needs_background": "light"
     },
     "output_type": "display_data"
    },
    {
     "data": {
      "image/png": "[encoded data removed]",
      "text/plain": [
       "<Figure size 432x288 with 1 Axes>"
      ]
     },
     "metadata": {
      "needs_background": "light"
     },
     "output_type": "display_data"
    },
    {
     "data": {
      "image/png": "[encoded data removed]",
      "text/plain": [
       "<Figure size 432x288 with 1 Axes>"
      ]
     },
     "metadata": {
      "needs_background": "light"
     },
     "output_type": "display_data"
    },
    {
     "data": {
      "image/png": "[encoded data removed]",
      "text/plain": [
       "<Figure size 432x288 with 1 Axes>"
      ]
     },
     "metadata": {
      "needs_background": "light"
     },
     "output_type": "display_data"
    },
    {
     "data": {
      "image/png": "[encoded data removed]",
      "text/plain": [
       "<Figure size 432x288 with 1 Axes>"
      ]
     },
     "metadata": {
      "needs_background": "light"
     },
     "output_type": "display_data"
    }
   ],
   "source": [
    "freq_buckets = [4]\n",
    "psid_dims = list(range(5,15))\n",
    "res = psid_classification(exp=\"1\",\n",
    "                         metric=roc_auc_score,\n",
    "                         freq_buckets = freq_buckets,\n",
    "                         psid_dims = psid_dims)\n",
    "print(np.mean(res[0]))\n",
    "print(\"PSID - XGB FEATURE IMPORTANCE\")\n",
    "\n",
    "for i in range(len(res[1])):\n",
    "    plt.imshow(res[1][i].reshape((len(freq_buckets),len(psid_dims))))\n",
    "    plt.show()"
   ]
  },
  {
   "cell_type": "code",
   "execution_count": 13,
   "id": "0a4cb53d",
   "metadata": {},
   "outputs": [
    {
     "name": "stdout",
     "output_type": "stream",
     "text": [
      "================================================================================\n",
      "Processing split 1\n",
      "================================================================================\n",
      "Processing split 2\n",
      "================================================================================\n",
      "Processing split 3\n",
      "================================================================================\n",
      "Processing split 4\n",
      "================================================================================\n",
      "Processing split 5\n",
      "Scores: [0.9166666666666666, 0.8333333333333334, 0.7638888888888888, 0.8333333333333333, 0.5972222222222222] - 78.89%\n"
     ]
    },
    {
     "data": {
      "image/png": "[encoded data removed]",
      "text/plain": [
       "<Figure size 432x288 with 1 Axes>"
      ]
     },
     "metadata": {
      "needs_background": "light"
     },
     "output_type": "display_data"
    },
    {
     "name": "stdout",
     "output_type": "stream",
     "text": [
      "0.9166666666666666\n",
      "PSID - XGB FEATURE IMPORTANCE\n"
     ]
    }
   ],
   "source": [
    "freq_buckets = [0,1,2,3,4,5,6]\n",
    "psid_dims = list(range(20))\n",
    "res = psid_classification(exp=\"2\",\n",
    "                         metric=roc_auc_score,)\n",
    "print(np.mean(res[0]))\n",
    "print(\"PSID - XGB FEATURE IMPORTANCE\")\n"
   ]
  },
  {
   "cell_type": "code",
   "execution_count": 37,
   "id": "780a39b5",
   "metadata": {},
   "outputs": [
    {
     "name": "stdout",
     "output_type": "stream",
     "text": [
      "================================================================================\n",
      "Processing split 1\n",
      "================================================================================\n",
      "Processing split 2\n",
      "================================================================================\n",
      "Processing split 3\n",
      "================================================================================\n",
      "Processing split 4\n",
      "================================================================================\n",
      "Processing split 5\n",
      "Scores: [0.8472222222222222, 0.7777777777777777, 0.8055555555555556, 0.8611111111111112, 0.8611111111111112] - 83.06%\n"
     ]
    },
    {
     "data": {
      "image/png": "[encoded data removed]",
      "text/plain": [
       "<Figure size 432x288 with 1 Axes>"
      ]
     },
     "metadata": {
      "needs_background": "light"
     },
     "output_type": "display_data"
    },
    {
     "name": "stdout",
     "output_type": "stream",
     "text": [
      "0.8305555555555555\n",
      "PSID - XGB FEATURE IMPORTANCE\n"
     ]
    },
    {
     "data": {
      "image/png": "[encoded data removed]",
      "text/plain": [
       "<Figure size 432x288 with 1 Axes>"
      ]
     },
     "metadata": {
      "needs_background": "light"
     },
     "output_type": "display_data"
    },
    {
     "data": {
      "image/png": "[encoded data removed]",
      "text/plain": [
       "<Figure size 432x288 with 1 Axes>"
      ]
     },
     "metadata": {
      "needs_background": "light"
     },
     "output_type": "display_data"
    },
    {
     "data": {
      "image/png": "[encoded data removed]",
      "text/plain": [
       "<Figure size 432x288 with 1 Axes>"
      ]
     },
     "metadata": {
      "needs_background": "light"
     },
     "output_type": "display_data"
    },
    {
     "data": {
      "image/png": "[encoded data removed]",
      "text/plain": [
       "<Figure size 432x288 with 1 Axes>"
      ]
     },
     "metadata": {
      "needs_background": "light"
     },
     "output_type": "display_data"
    },
    {
     "data": {
      "image/png": "[encoded data removed]",
      "text/plain": [
       "<Figure size 432x288 with 1 Axes>"
      ]
     },
     "metadata": {
      "needs_background": "light"
     },
     "output_type": "display_data"
    }
   ],
   "source": [
    "freq_buckets = [0,1,4]\n",
    "psid_dims = list(range(20))\n",
    "res = psid_classification(exp=\"2\",\n",
    "                         metric=roc_auc_score,\n",
    "                         freq_buckets = freq_buckets,\n",
    "                         psid_dims = psid_dims)\n",
    "print(np.mean(res[0]))\n",
    "print(\"PSID - XGB FEATURE IMPORTANCE\")\n",
    "\n",
    "for i in range(len(res[1])):\n",
    "    plt.imshow(res[1][i].reshape((len(freq_buckets),len(psid_dims))))\n",
    "    plt.show()"
   ]
  },
  {
   "cell_type": "code",
   "execution_count": 39,
   "id": "b60ef5bd",
   "metadata": {},
   "outputs": [
    {
     "name": "stdout",
     "output_type": "stream",
     "text": [
      "Not all the same number of groups per label - will zip and thus drop all groups longer than the min\n",
      "================================================================================\n",
      "Processing split 1\n",
      "================================================================================\n",
      "Processing split 2\n",
      "================================================================================\n",
      "Processing split 3\n",
      "Scores: [0.75, 0.888888888888889, 0.6805555555555554] - 77.31%\n"
     ]
    },
    {
     "data": {
      "image/png": "[encoded data removed]",
      "text/plain": [
       "<Figure size 432x288 with 1 Axes>"
      ]
     },
     "metadata": {
      "needs_background": "light"
     },
     "output_type": "display_data"
    },
    {
     "name": "stdout",
     "output_type": "stream",
     "text": [
      "0.773148148148148\n",
      "PSID - XGB FEATURE IMPORTANCE\n"
     ]
    },
    {
     "data": {
      "image/png": "[encoded data removed]",
      "text/plain": [
       "<Figure size 432x288 with 1 Axes>"
      ]
     },
     "metadata": {
      "needs_background": "light"
     },
     "output_type": "display_data"
    },
    {
     "data": {
      "image/png": "[encoded data removed]",
      "text/plain": [
       "<Figure size 432x288 with 1 Axes>"
      ]
     },
     "metadata": {
      "needs_background": "light"
     },
     "output_type": "display_data"
    },
    {
     "data": {
      "image/png": "[encoded data removed]",
      "text/plain": [
       "<Figure size 432x288 with 1 Axes>"
      ]
     },
     "metadata": {
      "needs_background": "light"
     },
     "output_type": "display_data"
    },
    {
     "name": "stdout",
     "output_type": "stream",
     "text": [
      "Not all the same number of groups per label - will zip and thus drop all groups longer than the min\n",
      "================================================================================\n",
      "Processing split 1\n",
      "================================================================================\n",
      "Processing split 2\n",
      "================================================================================\n",
      "Processing split 3\n",
      "Scores: [0.75, 0.888888888888889, 0.6805555555555554] - 77.31%\n"
     ]
    },
    {
     "data": {
      "image/png": "[encoded data removed]",
      "text/plain": [
       "<Figure size 432x288 with 1 Axes>"
      ]
     },
     "metadata": {
      "needs_background": "light"
     },
     "output_type": "display_data"
    },
    {
     "name": "stdout",
     "output_type": "stream",
     "text": [
      "0.773148148148148\n"
     ]
    }
   ],
   "source": [
    "exp = \"3\"\n",
    "\n",
    "freq_buckets = [0,1,2,3,4,5,6]\n",
    "psid_dims = list(range(20))\n",
    "res = psid_classification(exp,\n",
    "                         metric=roc_auc_score,)\n",
    "print(np.mean(res[0]))\n",
    "print(\"PSID - XGB FEATURE IMPORTANCE\")\n",
    "\n",
    "for i in range(len(res[1])):\n",
    "    plt.imshow(res[1][i].reshape((len(freq_buckets),len(psid_dims))))\n",
    "    plt.show()\n",
    "    \n",
    "freq_buckets = [0,1,4]\n",
    "psid_dims = list(range(20))\n",
    "res = psid_classification(exp,\n",
    "                         metric=roc_auc_score,\n",
    "                         freq_buckets = freq_buckets,\n",
    "                         psid_dims = psid_dims)\n",
    "print(np.mean(res[0]))\n"
   ]
  },
  {
   "cell_type": "code",
   "execution_count": 40,
   "id": "46f41810",
   "metadata": {},
   "outputs": [
    {
     "name": "stdout",
     "output_type": "stream",
     "text": [
      "Not all the same number of groups per label - will zip and thus drop all groups longer than the min\n",
      "================================================================================\n",
      "Processing split 1\n",
      "================================================================================\n",
      "Processing split 2\n",
      "================================================================================\n",
      "Processing split 3\n",
      "================================================================================\n",
      "Processing split 4\n",
      "Scores: [0.9305555555555556, 1.0, 0.9166666666666667, 0.9166666666666666] - 94.10%\n"
     ]
    },
    {
     "data": {
      "image/png": "[encoded data removed]",
      "text/plain": [
       "<Figure size 432x288 with 1 Axes>"
      ]
     },
     "metadata": {
      "needs_background": "light"
     },
     "output_type": "display_data"
    },
    {
     "name": "stdout",
     "output_type": "stream",
     "text": [
      "0.9409722222222222\n",
      "PSID - XGB FEATURE IMPORTANCE\n"
     ]
    },
    {
     "data": {
      "image/png": "[encoded data removed]",
      "text/plain": [
       "<Figure size 432x288 with 1 Axes>"
      ]
     },
     "metadata": {
      "needs_background": "light"
     },
     "output_type": "display_data"
    },
    {
     "data": {
      "image/png": "[encoded data removed]",
      "text/plain": [
       "<Figure size 432x288 with 1 Axes>"
      ]
     },
     "metadata": {
      "needs_background": "light"
     },
     "output_type": "display_data"
    },
    {
     "data": {
      "image/png": "[encoded data removed]",
      "text/plain": [
       "<Figure size 432x288 with 1 Axes>"
      ]
     },
     "metadata": {
      "needs_background": "light"
     },
     "output_type": "display_data"
    },
    {
     "data": {
      "image/png": "[encoded data removed]",
      "text/plain": [
       "<Figure size 432x288 with 1 Axes>"
      ]
     },
     "metadata": {
      "needs_background": "light"
     },
     "output_type": "display_data"
    },
    {
     "name": "stdout",
     "output_type": "stream",
     "text": [
      "Not all the same number of groups per label - will zip and thus drop all groups longer than the min\n",
      "================================================================================\n",
      "Processing split 1\n",
      "================================================================================\n",
      "Processing split 2\n",
      "================================================================================\n",
      "Processing split 3\n",
      "================================================================================\n",
      "Processing split 4\n",
      "Scores: [0.9444444444444444, 0.9861111111111112, 0.9305555555555556, 0.888888888888889] - 93.75%\n"
     ]
    },
    {
     "data": {
      "image/png": "[encoded data removed]",
      "text/plain": [
       "<Figure size 432x288 with 1 Axes>"
      ]
     },
     "metadata": {
      "needs_background": "light"
     },
     "output_type": "display_data"
    },
    {
     "name": "stdout",
     "output_type": "stream",
     "text": [
      "0.9375\n"
     ]
    }
   ],
   "source": [
    "exp = \"4\"\n",
    "\n",
    "freq_buckets = [0,1,2,3,4,5,6]\n",
    "psid_dims = list(range(20))\n",
    "res = psid_classification(exp,\n",
    "                         metric=roc_auc_score,)\n",
    "print(np.mean(res[0]))\n",
    "print(\"PSID - XGB FEATURE IMPORTANCE\")\n",
    "\n",
    "for i in range(len(res[1])):\n",
    "    plt.imshow(res[1][i].reshape((len(freq_buckets),len(psid_dims))))\n",
    "    plt.show()\n",
    "    \n",
    "freq_buckets = [4]\n",
    "psid_dims = list(range(20))\n",
    "res = psid_classification(exp,\n",
    "                         metric=roc_auc_score,\n",
    "                         freq_buckets = freq_buckets,\n",
    "                         psid_dims = psid_dims)\n",
    "print(np.mean(res[0]))\n"
   ]
  },
  {
   "cell_type": "code",
   "execution_count": 10,
   "id": "46d39ba0",
   "metadata": {},
   "outputs": [
    {
     "name": "stdout",
     "output_type": "stream",
     "text": [
      "Not all the same number of groups per label - will zip and thus drop all groups longer than the min\n",
      "================================================================================\n",
      "Processing split 1\n",
      "================================================================================\n",
      "Processing split 2\n",
      "================================================================================\n",
      "Processing split 3\n",
      "================================================================================\n",
      "Processing split 4\n",
      "================================================================================\n",
      "Processing split 5\n",
      "Scores: [0.6944444444444444, 0.9583333333333333, 0.9027777777777778, 0.9444444444444445, 0.9444444444444444] - 88.89%\n"
     ]
    },
    {
     "data": {
      "image/png": "[encoded data removed]",
      "text/plain": [
       "<Figure size 432x288 with 1 Axes>"
      ]
     },
     "metadata": {
      "needs_background": "light"
     },
     "output_type": "display_data"
    },
    {
     "name": "stdout",
     "output_type": "stream",
     "text": [
      "0.888888888888889\n",
      "PSID - XGB FEATURE IMPORTANCE\n"
     ]
    },
    {
     "data": {
      "image/png": "[encoded data removed]",
      "text/plain": [
       "<Figure size 432x288 with 1 Axes>"
      ]
     },
     "metadata": {
      "needs_background": "light"
     },
     "output_type": "display_data"
    },
    {
     "data": {
      "image/png": "[encoded data removed]",
      "text/plain": [
       "<Figure size 432x288 with 1 Axes>"
      ]
     },
     "metadata": {
      "needs_background": "light"
     },
     "output_type": "display_data"
    },
    {
     "data": {
      "image/png": "[encoded data removed]",
      "text/plain": [
       "<Figure size 432x288 with 1 Axes>"
      ]
     },
     "metadata": {
      "needs_background": "light"
     },
     "output_type": "display_data"
    },
    {
     "data": {
      "image/png": "[encoded data removed]",
      "text/plain": [
       "<Figure size 432x288 with 1 Axes>"
      ]
     },
     "metadata": {
      "needs_background": "light"
     },
     "output_type": "display_data"
    },
    {
     "data": {
      "image/png": "[encoded data removed]",
      "text/plain": [
       "<Figure size 432x288 with 1 Axes>"
      ]
     },
     "metadata": {
      "needs_background": "light"
     },
     "output_type": "display_data"
    },
    {
     "name": "stdout",
     "output_type": "stream",
     "text": [
      "Not all the same number of groups per label - will zip and thus drop all groups longer than the min\n",
      "================================================================================\n",
      "Processing split 1\n",
      "================================================================================\n",
      "Processing split 2\n",
      "================================================================================\n",
      "Processing split 3\n",
      "================================================================================\n",
      "Processing split 4\n",
      "================================================================================\n",
      "Processing split 5\n",
      "Scores: [0.6527777777777778, 0.9722222222222222, 0.9027777777777778, 0.9305555555555555, 0.8472222222222223] - 86.11%\n"
     ]
    },
    {
     "data": {
      "image/png": "[encoded data removed]",
      "text/plain": [
       "<Figure size 432x288 with 1 Axes>"
      ]
     },
     "metadata": {
      "needs_background": "light"
     },
     "output_type": "display_data"
    },
    {
     "name": "stdout",
     "output_type": "stream",
     "text": [
      "0.861111111111111\n"
     ]
    }
   ],
   "source": [
    "exp = \"5\"\n",
    "\n",
    "freq_buckets = [0,1,2,3,4,5,6]\n",
    "psid_dims = list(range(20))\n",
    "res = psid_classification(exp,\n",
    "                         metric=roc_auc_score,\n",
    "                         filtered = \"\")\n",
    "print(np.mean(res[0]))\n",
    "print(\"PSID - XGB FEATURE IMPORTANCE\")\n",
    "\n",
    "for i in range(len(res[1])):\n",
    "    plt.imshow(res[1][i].reshape((len(freq_buckets),len(psid_dims))))\n",
    "    plt.show()\n",
    "    \n",
    "freq_buckets = [4]\n",
    "psid_dims = list(range(20))\n",
    "res = psid_classification(exp,\n",
    "                         metric=roc_auc_score,\n",
    "                          filtered = \"\",\n",
    "                         freq_buckets = freq_buckets,\n",
    "                         psid_dims = psid_dims)\n",
    "print(np.mean(res[0]))"
   ]
  },
  {
   "cell_type": "code",
   "execution_count": 12,
   "id": "c8da6abb",
   "metadata": {},
   "outputs": [
    {
     "name": "stdout",
     "output_type": "stream",
     "text": [
      "================================================================================\n",
      "Processing split 1\n",
      "================================================================================\n",
      "Processing split 2\n",
      "================================================================================\n",
      "Processing split 3\n",
      "================================================================================\n",
      "Processing split 4\n",
      "================================================================================\n",
      "Processing split 5\n",
      "================================================================================\n",
      "Processing split 6\n",
      "================================================================================\n",
      "Processing split 7\n",
      "================================================================================\n",
      "Processing split 8\n",
      "================================================================================\n",
      "Processing split 9\n",
      "Scores: [0.9583333333333333, 0.9583333333333333, 1.0, 0.9722222222222222, 1.0, 0.9722222222222222, 1.0, 1.0, 0.986111111111111] - 98.30%\n"
     ]
    },
    {
     "data": {
      "image/png": "[encoded data removed]",
      "text/plain": [
       "<Figure size 432x288 with 1 Axes>"
      ]
     },
     "metadata": {
      "needs_background": "light"
     },
     "output_type": "display_data"
    },
    {
     "name": "stdout",
     "output_type": "stream",
     "text": [
      "0.9830246913580246\n",
      "PSID - XGB FEATURE IMPORTANCE\n"
     ]
    },
    {
     "data": {
      "image/png": "[encoded data removed]",
      "text/plain": [
       "<Figure size 432x288 with 1 Axes>"
      ]
     },
     "metadata": {
      "needs_background": "light"
     },
     "output_type": "display_data"
    },
    {
     "data": {
      "image/png": "[encoded data removed]",
      "text/plain": [
       "<Figure size 432x288 with 1 Axes>"
      ]
     },
     "metadata": {
      "needs_background": "light"
     },
     "output_type": "display_data"
    },
    {
     "data": {
      "image/png": "[encoded data removed]",
      "text/plain": [
       "<Figure size 432x288 with 1 Axes>"
      ]
     },
     "metadata": {
      "needs_background": "light"
     },
     "output_type": "display_data"
    },
    {
     "data": {
      "image/png": "[encoded data removed]",
      "text/plain": [
       "<Figure size 432x288 with 1 Axes>"
      ]
     },
     "metadata": {
      "needs_background": "light"
     },
     "output_type": "display_data"
    },
    {
     "data": {
      "image/png": "[encoded data removed]",
      "text/plain": [
       "<Figure size 432x288 with 1 Axes>"
      ]
     },
     "metadata": {
      "needs_background": "light"
     },
     "output_type": "display_data"
    },
    {
     "data": {
      "image/png": "[encoded data removed]",
      "text/plain": [
       "<Figure size 432x288 with 1 Axes>"
      ]
     },
     "metadata": {
      "needs_background": "light"
     },
     "output_type": "display_data"
    },
    {
     "data": {
      "image/png": "[encoded data removed]",
      "text/plain": [
       "<Figure size 432x288 with 1 Axes>"
      ]
     },
     "metadata": {
      "needs_background": "light"
     },
     "output_type": "display_data"
    },
    {
     "data": {
      "image/png": "[encoded data removed]",
      "text/plain": [
       "<Figure size 432x288 with 1 Axes>"
      ]
     },
     "metadata": {
      "needs_background": "light"
     },
     "output_type": "display_data"
    },
    {
     "data": {
      "image/png": "[encoded data removed]",
      "text/plain": [
       "<Figure size 432x288 with 1 Axes>"
      ]
     },
     "metadata": {
      "needs_background": "light"
     },
     "output_type": "display_data"
    },
    {
     "name": "stdout",
     "output_type": "stream",
     "text": [
      "================================================================================\n",
      "Processing split 1\n",
      "================================================================================\n",
      "Processing split 2\n",
      "================================================================================\n",
      "Processing split 3\n",
      "================================================================================\n",
      "Processing split 4\n",
      "================================================================================\n",
      "Processing split 5\n",
      "================================================================================\n",
      "Processing split 6\n",
      "================================================================================\n",
      "Processing split 7\n",
      "================================================================================\n",
      "Processing split 8\n",
      "================================================================================\n",
      "Processing split 9\n",
      "Scores: [0.9583333333333333, 0.9444444444444445, 1.0, 0.9722222222222222, 1.0, 0.9722222222222222, 1.0, 1.0, 1.0] - 98.30%\n"
     ]
    },
    {
     "data": {
      "image/png": "[encoded data removed]",
      "text/plain": [
       "<Figure size 432x288 with 1 Axes>"
      ]
     },
     "metadata": {
      "needs_background": "light"
     },
     "output_type": "display_data"
    },
    {
     "name": "stdout",
     "output_type": "stream",
     "text": [
      "0.9830246913580246\n"
     ]
    }
   ],
   "source": [
    "exp = \"6\"\n",
    "\n",
    "freq_buckets = [0,1,2,3,4,5,6]\n",
    "psid_dims = list(range(20))\n",
    "res = psid_classification(exp,\n",
    "                         metric=roc_auc_score,\n",
    "                         #filtered = \"\"\n",
    "                         )\n",
    "print(np.mean(res[0]))\n",
    "print(\"PSID - XGB FEATURE IMPORTANCE\")\n",
    "\n",
    "for i in range(len(res[1])):\n",
    "    plt.imshow(res[1][i].reshape((len(freq_buckets),len(psid_dims))))\n",
    "    plt.show()\n",
    "    \n",
    "freq_buckets = [4]\n",
    "psid_dims = list(range(20))\n",
    "res = psid_classification(exp,\n",
    "                         metric=roc_auc_score,\n",
    "                          #filtered = \"\",\n",
    "                         freq_buckets = freq_buckets,\n",
    "                         psid_dims = psid_dims)\n",
    "print(np.mean(res[0]))"
   ]
  },
  {
   "cell_type": "code",
   "execution_count": 15,
   "id": "5fda0549",
   "metadata": {},
   "outputs": [
    {
     "name": "stdout",
     "output_type": "stream",
     "text": [
      "================================================================================\n",
      "Processing split 1\n",
      "================================================================================\n",
      "Processing split 2\n",
      "================================================================================\n",
      "Processing split 3\n",
      "================================================================================\n",
      "Processing split 4\n",
      "================================================================================\n",
      "Processing split 5\n",
      "================================================================================\n",
      "Processing split 6\n",
      "================================================================================\n",
      "Processing split 7\n",
      "Scores: [0.8194444444444444, 0.9583333333333333, 0.875, 0.9305555555555554, 0.8611111111111112, 0.9444444444444444, 0.8611111111111112] - 89.29%\n"
     ]
    },
    {
     "data": {
      "image/png": "[encoded data removed]",
      "text/plain": [
       "<Figure size 432x288 with 1 Axes>"
      ]
     },
     "metadata": {
      "needs_background": "light"
     },
     "output_type": "display_data"
    },
    {
     "name": "stdout",
     "output_type": "stream",
     "text": [
      "0.8928571428571429\n",
      "PSID - XGB FEATURE IMPORTANCE\n"
     ]
    },
    {
     "data": {
      "image/png": "[encoded data removed]",
      "text/plain": [
       "<Figure size 432x288 with 1 Axes>"
      ]
     },
     "metadata": {
      "needs_background": "light"
     },
     "output_type": "display_data"
    },
    {
     "data": {
      "image/png": "[encoded data removed]",
      "text/plain": [
       "<Figure size 432x288 with 1 Axes>"
      ]
     },
     "metadata": {
      "needs_background": "light"
     },
     "output_type": "display_data"
    },
    {
     "data": {
      "image/png": "[encoded data removed]",
      "text/plain": [
       "<Figure size 432x288 with 1 Axes>"
      ]
     },
     "metadata": {
      "needs_background": "light"
     },
     "output_type": "display_data"
    },
    {
     "data": {
      "image/png": "[encoded data removed]",
      "text/plain": [
       "<Figure size 432x288 with 1 Axes>"
      ]
     },
     "metadata": {
      "needs_background": "light"
     },
     "output_type": "display_data"
    },
    {
     "data": {
      "image/png": "[encoded data removed]",
      "text/plain": [
       "<Figure size 432x288 with 1 Axes>"
      ]
     },
     "metadata": {
      "needs_background": "light"
     },
     "output_type": "display_data"
    },
    {
     "data": {
      "image/png": "[encoded data removed]",
      "text/plain": [
       "<Figure size 432x288 with 1 Axes>"
      ]
     },
     "metadata": {
      "needs_background": "light"
     },
     "output_type": "display_data"
    },
    {
     "data": {
      "image/png": "[encoded data removed]",
      "text/plain": [
       "<Figure size 432x288 with 1 Axes>"
      ]
     },
     "metadata": {
      "needs_background": "light"
     },
     "output_type": "display_data"
    },
    {
     "name": "stdout",
     "output_type": "stream",
     "text": [
      "================================================================================\n",
      "Processing split 1\n",
      "================================================================================\n",
      "Processing split 2\n",
      "================================================================================\n",
      "Processing split 3\n",
      "================================================================================\n",
      "Processing split 4\n",
      "================================================================================\n",
      "Processing split 5\n",
      "================================================================================\n",
      "Processing split 6\n",
      "================================================================================\n",
      "Processing split 7\n",
      "Scores: [0.8194444444444444, 0.9583333333333333, 0.875, 0.9305555555555554, 0.8611111111111112, 0.9444444444444444, 0.8611111111111112] - 89.29%\n"
     ]
    },
    {
     "data": {
      "image/png": "[encoded data removed]",
      "text/plain": [
       "<Figure size 432x288 with 1 Axes>"
      ]
     },
     "metadata": {
      "needs_background": "light"
     },
     "output_type": "display_data"
    },
    {
     "name": "stdout",
     "output_type": "stream",
     "text": [
      "0.8928571428571429\n"
     ]
    }
   ],
   "source": [
    "exp = \"7\"\n",
    "\n",
    "freq_buckets = [0,1,2,3,4,5,6]\n",
    "psid_dims = list(range(20))\n",
    "res = psid_classification(exp,\n",
    "                         metric=roc_auc_score,\n",
    "                         #filtered = \"\"\n",
    "                         )\n",
    "print(np.mean(res[0]))\n",
    "print(\"PSID - XGB FEATURE IMPORTANCE\")\n",
    "\n",
    "for i in range(len(res[1])):\n",
    "    plt.imshow(res[1][i].reshape((len(freq_buckets),len(psid_dims))))\n",
    "    plt.show()\n",
    "    \n",
    "freq_buckets = [0,1,4]\n",
    "psid_dims = list(range(20))\n",
    "res = psid_classification(exp,\n",
    "                         metric=roc_auc_score,\n",
    "                          #filtered = \"\",\n",
    "                         freq_buckets = freq_buckets,\n",
    "                         psid_dims = psid_dims)\n",
    "print(np.mean(res[0]))"
   ]
  },
  {
   "cell_type": "code",
   "execution_count": 18,
   "id": "9e75fd42",
   "metadata": {},
   "outputs": [
    {
     "name": "stdout",
     "output_type": "stream",
     "text": [
      "================================================================================\n",
      "Processing split 1\n",
      "================================================================================\n",
      "Processing split 2\n",
      "================================================================================\n",
      "Processing split 3\n",
      "================================================================================\n",
      "Processing split 4\n",
      "================================================================================\n",
      "Processing split 5\n",
      "================================================================================\n",
      "Processing split 6\n",
      "================================================================================\n",
      "Processing split 7\n",
      "================================================================================\n",
      "Processing split 8\n",
      "================================================================================\n",
      "Processing split 9\n",
      "Scores: [0.726010101010101, 0.8333333333333333, 0.8333333333333333, 0.9305555555555556, 0.7916666666666665, 0.8194444444444444, 0.9166666666666666, 0.9027777777777778, 0.9166666666666667] - 85.23%\n"
     ]
    },
    {
     "data": {
      "image/png": "[encoded data removed]",
      "text/plain": [
       "<Figure size 432x288 with 1 Axes>"
      ]
     },
     "metadata": {
      "needs_background": "light"
     },
     "output_type": "display_data"
    },
    {
     "name": "stdout",
     "output_type": "stream",
     "text": [
      "0.8522727272727273\n",
      "PSID - XGB FEATURE IMPORTANCE\n"
     ]
    },
    {
     "data": {
      "image/png": "[encoded data removed]",
      "text/plain": [
       "<Figure size 432x288 with 1 Axes>"
      ]
     },
     "metadata": {
      "needs_background": "light"
     },
     "output_type": "display_data"
    },
    {
     "data": {
      "image/png": "[encoded data removed]",
      "text/plain": [
       "<Figure size 432x288 with 1 Axes>"
      ]
     },
     "metadata": {
      "needs_background": "light"
     },
     "output_type": "display_data"
    },
    {
     "data": {
      "image/png": "[encoded data removed]",
      "text/plain": [
       "<Figure size 432x288 with 1 Axes>"
      ]
     },
     "metadata": {
      "needs_background": "light"
     },
     "output_type": "display_data"
    },
    {
     "data": {
      "image/png": "[encoded data removed]",
      "text/plain": [
       "<Figure size 432x288 with 1 Axes>"
      ]
     },
     "metadata": {
      "needs_background": "light"
     },
     "output_type": "display_data"
    },
    {
     "data": {
      "image/png": "[encoded data removed]",
      "text/plain": [
       "<Figure size 432x288 with 1 Axes>"
      ]
     },
     "metadata": {
      "needs_background": "light"
     },
     "output_type": "display_data"
    },
    {
     "data": {
      "image/png": "[encoded data removed]",
      "text/plain": [
       "<Figure size 432x288 with 1 Axes>"
      ]
     },
     "metadata": {
      "needs_background": "light"
     },
     "output_type": "display_data"
    },
    {
     "data": {
      "image/png": "[encoded data removed]",
      "text/plain": [
       "<Figure size 432x288 with 1 Axes>"
      ]
     },
     "metadata": {
      "needs_background": "light"
     },
     "output_type": "display_data"
    },
    {
     "data": {
      "image/png": "[encoded data removed]",
      "text/plain": [
       "<Figure size 432x288 with 1 Axes>"
      ]
     },
     "metadata": {
      "needs_background": "light"
     },
     "output_type": "display_data"
    },
    {
     "data": {
      "image/png": "[encoded data removed]",
      "text/plain": [
       "<Figure size 432x288 with 1 Axes>"
      ]
     },
     "metadata": {
      "needs_background": "light"
     },
     "output_type": "display_data"
    },
    {
     "name": "stdout",
     "output_type": "stream",
     "text": [
      "================================================================================\n",
      "Processing split 1\n",
      "================================================================================\n",
      "Processing split 2\n",
      "================================================================================\n",
      "Processing split 3\n",
      "================================================================================\n",
      "Processing split 4\n",
      "================================================================================\n",
      "Processing split 5\n",
      "================================================================================\n",
      "Processing split 6\n",
      "================================================================================\n",
      "Processing split 7\n",
      "================================================================================\n",
      "Processing split 8\n",
      "================================================================================\n",
      "Processing split 9\n",
      "Scores: [0.726010101010101, 0.8333333333333333, 0.8333333333333333, 0.9305555555555556, 0.7916666666666665, 0.8194444444444444, 0.9166666666666666, 0.9027777777777778, 0.9166666666666667] - 85.23%\n"
     ]
    },
    {
     "data": {
      "image/png": "[encoded data removed]",
      "text/plain": [
       "<Figure size 432x288 with 1 Axes>"
      ]
     },
     "metadata": {
      "needs_background": "light"
     },
     "output_type": "display_data"
    },
    {
     "name": "stdout",
     "output_type": "stream",
     "text": [
      "0.8522727272727273\n"
     ]
    }
   ],
   "source": [
    "exp = \"8\"\n",
    "\n",
    "freq_buckets = [0,1,2,3,4,5,6]\n",
    "psid_dims = list(range(20))\n",
    "res = psid_classification(exp,\n",
    "                         metric=roc_auc_score,\n",
    "                         filtered = \"\"\n",
    "                         )\n",
    "print(np.mean(res[0]))\n",
    "print(\"PSID - XGB FEATURE IMPORTANCE\")\n",
    "\n",
    "for i in range(len(res[1])):\n",
    "    plt.imshow(res[1][i].reshape((len(freq_buckets),len(psid_dims))))\n",
    "    plt.show()\n",
    "    \n",
    "freq_buckets = [0,1,4]\n",
    "psid_dims = list(range(20))\n",
    "res = psid_classification(exp,\n",
    "                         metric=roc_auc_score,\n",
    "                        filtered = \"\",\n",
    "                         freq_buckets = freq_buckets,\n",
    "                         psid_dims = psid_dims)\n",
    "print(np.mean(res[0]))"
   ]
  },
  {
   "cell_type": "code",
   "execution_count": 19,
   "id": "f3a76775",
   "metadata": {},
   "outputs": [
    {
     "name": "stdout",
     "output_type": "stream",
     "text": [
      "================================================================================\n",
      "Processing split 1\n",
      "================================================================================\n",
      "Processing split 2\n",
      "================================================================================\n",
      "Processing split 3\n",
      "================================================================================\n",
      "Processing split 4\n",
      "================================================================================\n",
      "Processing split 5\n",
      "================================================================================\n",
      "Processing split 6\n",
      "================================================================================\n",
      "Processing split 7\n",
      "================================================================================\n",
      "Processing split 8\n",
      "Scores: [0.9027777777777778, 0.875, 0.9305555555555556, 0.9027777777777778, 0.9027777777777778, 0.8194444444444444, 0.861111111111111, 0.9444444444444444] - 89.24%\n"
     ]
    },
    {
     "data": {
      "image/png": "[encoded data removed]",
      "text/plain": [
       "<Figure size 432x288 with 1 Axes>"
      ]
     },
     "metadata": {
      "needs_background": "light"
     },
     "output_type": "display_data"
    },
    {
     "name": "stdout",
     "output_type": "stream",
     "text": [
      "0.8923611111111112\n",
      "PSID - XGB FEATURE IMPORTANCE\n"
     ]
    },
    {
     "data": {
      "image/png": "[encoded data removed]",
      "text/plain": [
       "<Figure size 432x288 with 1 Axes>"
      ]
     },
     "metadata": {
      "needs_background": "light"
     },
     "output_type": "display_data"
    },
    {
     "data": {
      "image/png": "[encoded data removed]",
      "text/plain": [
       "<Figure size 432x288 with 1 Axes>"
      ]
     },
     "metadata": {
      "needs_background": "light"
     },
     "output_type": "display_data"
    },
    {
     "data": {
      "image/png": "[encoded data removed]",
      "text/plain": [
       "<Figure size 432x288 with 1 Axes>"
      ]
     },
     "metadata": {
      "needs_background": "light"
     },
     "output_type": "display_data"
    },
    {
     "data": {
      "image/png": "[encoded data removed]",
      "text/plain": [
       "<Figure size 432x288 with 1 Axes>"
      ]
     },
     "metadata": {
      "needs_background": "light"
     },
     "output_type": "display_data"
    },
    {
     "data": {
      "image/png": "[encoded data removed]",
      "text/plain": [
       "<Figure size 432x288 with 1 Axes>"
      ]
     },
     "metadata": {
      "needs_background": "light"
     },
     "output_type": "display_data"
    },
    {
     "data": {
      "image/png": "[encoded data removed]",
      "text/plain": [
       "<Figure size 432x288 with 1 Axes>"
      ]
     },
     "metadata": {
      "needs_background": "light"
     },
     "output_type": "display_data"
    },
    {
     "data": {
      "image/png": "[encoded data removed]",
      "text/plain": [
       "<Figure size 432x288 with 1 Axes>"
      ]
     },
     "metadata": {
      "needs_background": "light"
     },
     "output_type": "display_data"
    },
    {
     "data": {
      "image/png": "[encoded data removed]",
      "text/plain": [
       "<Figure size 432x288 with 1 Axes>"
      ]
     },
     "metadata": {
      "needs_background": "light"
     },
     "output_type": "display_data"
    },
    {
     "name": "stdout",
     "output_type": "stream",
     "text": [
      "================================================================================\n",
      "Processing split 1\n",
      "================================================================================\n",
      "Processing split 2\n",
      "================================================================================\n",
      "Processing split 3\n",
      "================================================================================\n",
      "Processing split 4\n",
      "================================================================================\n",
      "Processing split 5\n",
      "================================================================================\n",
      "Processing split 6\n",
      "================================================================================\n",
      "Processing split 7\n",
      "================================================================================\n",
      "Processing split 8\n",
      "Scores: [0.9027777777777778, 0.875, 0.9305555555555556, 0.9027777777777778, 0.9027777777777778, 0.8194444444444444, 0.861111111111111, 0.9444444444444444] - 89.24%\n"
     ]
    },
    {
     "data": {
      "image/png": "[encoded data removed]",
      "text/plain": [
       "<Figure size 432x288 with 1 Axes>"
      ]
     },
     "metadata": {
      "needs_background": "light"
     },
     "output_type": "display_data"
    },
    {
     "name": "stdout",
     "output_type": "stream",
     "text": [
      "0.8923611111111112\n"
     ]
    }
   ],
   "source": [
    "exp = \"9\"\n",
    "\n",
    "freq_buckets = [0,1,2,3,4,5,6]\n",
    "psid_dims = list(range(20))\n",
    "res = psid_classification(exp,\n",
    "                         metric=roc_auc_score,\n",
    "                         filtered = \"\"\n",
    "                         )\n",
    "print(np.mean(res[0]))\n",
    "print(\"PSID - XGB FEATURE IMPORTANCE\")\n",
    "\n",
    "for i in range(len(res[1])):\n",
    "    plt.imshow(res[1][i].reshape((len(freq_buckets),len(psid_dims))))\n",
    "    plt.show()\n",
    "    \n",
    "freq_buckets = [0,1,4]\n",
    "psid_dims = list(range(20))\n",
    "res = psid_classification(exp,\n",
    "                         metric=roc_auc_score,\n",
    "                        filtered = \"\",\n",
    "                         freq_buckets = freq_buckets,\n",
    "                         psid_dims = psid_dims)\n",
    "print(np.mean(res[0]))"
   ]
  },
  {
   "cell_type": "code",
   "execution_count": 22,
   "id": "67c221e4",
   "metadata": {},
   "outputs": [
    {
     "name": "stdout",
     "output_type": "stream",
     "text": [
      "================================================================================\n",
      "Processing split 1\n",
      "================================================================================\n",
      "Processing split 2\n",
      "================================================================================\n",
      "Processing split 3\n",
      "================================================================================\n",
      "Processing split 4\n",
      "================================================================================\n",
      "Processing split 5\n",
      "================================================================================\n",
      "Processing split 6\n",
      "================================================================================\n",
      "Processing split 7\n",
      "================================================================================\n",
      "Processing split 8\n",
      "Scores: [0.9305555555555556, 0.9444444444444444, 0.986111111111111, 0.9583333333333333, 0.9444444444444444, 0.9027777777777777, 0.8472222222222222, 0.9444444444444444] - 93.23%\n"
     ]
    },
    {
     "data": {
      "image/png": "[encoded data removed]",
      "text/plain": [
       "<Figure size 432x288 with 1 Axes>"
      ]
     },
     "metadata": {
      "needs_background": "light"
     },
     "output_type": "display_data"
    },
    {
     "name": "stdout",
     "output_type": "stream",
     "text": [
      "0.9322916666666665\n",
      "PSID - XGB FEATURE IMPORTANCE\n"
     ]
    },
    {
     "data": {
      "image/png": "[encoded data removed]",
      "text/plain": [
       "<Figure size 432x288 with 1 Axes>"
      ]
     },
     "metadata": {
      "needs_background": "light"
     },
     "output_type": "display_data"
    },
    {
     "data": {
      "image/png": "[encoded data removed]",
      "text/plain": [
       "<Figure size 432x288 with 1 Axes>"
      ]
     },
     "metadata": {
      "needs_background": "light"
     },
     "output_type": "display_data"
    },
    {
     "data": {
      "image/png": "[encoded data removed]",
      "text/plain": [
       "<Figure size 432x288 with 1 Axes>"
      ]
     },
     "metadata": {
      "needs_background": "light"
     },
     "output_type": "display_data"
    },
    {
     "data": {
      "image/png": "[encoded data removed]",
      "text/plain": [
       "<Figure size 432x288 with 1 Axes>"
      ]
     },
     "metadata": {
      "needs_background": "light"
     },
     "output_type": "display_data"
    },
    {
     "data": {
      "image/png": "[encoded data removed]",
      "text/plain": [
       "<Figure size 432x288 with 1 Axes>"
      ]
     },
     "metadata": {
      "needs_background": "light"
     },
     "output_type": "display_data"
    },
    {
     "data": {
      "image/png": "[encoded data removed]",
      "text/plain": [
       "<Figure size 432x288 with 1 Axes>"
      ]
     },
     "metadata": {
      "needs_background": "light"
     },
     "output_type": "display_data"
    },
    {
     "data": {
      "image/png": "[encoded data removed]",
      "text/plain": [
       "<Figure size 432x288 with 1 Axes>"
      ]
     },
     "metadata": {
      "needs_background": "light"
     },
     "output_type": "display_data"
    },
    {
     "data": {
      "image/png": "[encoded data removed]",
      "text/plain": [
       "<Figure size 432x288 with 1 Axes>"
      ]
     },
     "metadata": {
      "needs_background": "light"
     },
     "output_type": "display_data"
    },
    {
     "name": "stdout",
     "output_type": "stream",
     "text": [
      "================================================================================\n",
      "Processing split 1\n",
      "================================================================================\n",
      "Processing split 2\n",
      "================================================================================\n",
      "Processing split 3\n",
      "================================================================================\n",
      "Processing split 4\n",
      "================================================================================\n",
      "Processing split 5\n",
      "================================================================================\n",
      "Processing split 6\n",
      "================================================================================\n",
      "Processing split 7\n",
      "================================================================================\n",
      "Processing split 8\n",
      "Scores: [0.9305555555555556, 0.9444444444444444, 0.986111111111111, 0.9583333333333333, 0.9444444444444444, 0.9027777777777777, 0.8472222222222222, 0.9444444444444444] - 93.23%\n"
     ]
    },
    {
     "data": {
      "image/png": "[encoded data removed]",
      "text/plain": [
       "<Figure size 432x288 with 1 Axes>"
      ]
     },
     "metadata": {
      "needs_background": "light"
     },
     "output_type": "display_data"
    },
    {
     "name": "stdout",
     "output_type": "stream",
     "text": [
      "0.9322916666666665\n"
     ]
    }
   ],
   "source": [
    "exp = \"10\"\n",
    "\n",
    "freq_buckets = [0,1,2,3,4,5,6]\n",
    "psid_dims = list(range(20))\n",
    "res = psid_classification(exp,\n",
    "                         metric=roc_auc_score,\n",
    "                         filtered = \"\"\n",
    "                         )\n",
    "print(np.mean(res[0]))\n",
    "print(\"PSID - XGB FEATURE IMPORTANCE\")\n",
    "\n",
    "for i in range(len(res[1])):\n",
    "    plt.imshow(res[1][i].reshape((len(freq_buckets),len(psid_dims))))\n",
    "    plt.show()\n",
    "    \n",
    "freq_buckets = [0,1,4]\n",
    "psid_dims = list(range(20))\n",
    "res = psid_classification(exp,\n",
    "                         metric=roc_auc_score,\n",
    "                        filtered = \"\",\n",
    "                         freq_buckets = freq_buckets,\n",
    "                         psid_dims = psid_dims)\n",
    "print(np.mean(res[0]))"
   ]
  },
  {
   "cell_type": "code",
   "execution_count": null,
   "id": "98e02c4b",
   "metadata": {},
   "outputs": [],
   "source": []
  }
 ],
 "metadata": {
  "kernelspec": {
   "display_name": "Python 3 (ipykernel)",
   "language": "python",
   "name": "python3"
  },
  "language_info": {
   "codemirror_mode": {
    "name": "ipython",
    "version": 3
   },
   "file_extension": ".py",
   "mimetype": "text/x-python",
   "name": "python",
   "nbconvert_exporter": "python",
   "pygments_lexer": "ipython3",
   "version": "3.7.5"
  }
 },
 "nbformat": 4,
 "nbformat_minor": 5
}

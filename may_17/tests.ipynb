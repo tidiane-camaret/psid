{
 "cells": [
  {
   "cell_type": "code",
   "execution_count": 18,
   "id": "b65f4785",
   "metadata": {},
   "outputs": [],
   "source": [
    "import os\n",
    "import sys\n",
    "\n",
    "import matplotlib.pyplot as plt\n",
    "import pickle\n",
    "import numpy as np \n",
    "\n",
    "sys.path.append(\"..\")\n",
    "from utils.utils import block_crossval, random_crossval"
   ]
  },
  {
   "cell_type": "code",
   "execution_count": 2,
   "id": "38713f42",
   "metadata": {},
   "outputs": [],
   "source": [
    "search_range = range(5, 35, 2)\n",
    "def plot_csp_results(exp):\n",
    "    with open('results/csp_' + exp + '_tuning.pickle', 'rb') as handle:\n",
    "        rscores, bscores = pickle.load(handle)\n",
    "        \n",
    "    print(\"CSP - maximal accuracy over 2hz frequency bands : \", max([np.mean(b) for b in bscores]))\n",
    "    plt.boxplot(bscores)\n",
    "    plt.xticks(range(len(search_range)),search_range)\n",
    "    plt.show()\n",
    "\n",
    "    \n",
    "    "
   ]
  },
  {
   "cell_type": "code",
   "execution_count": 10,
   "id": "d3f1bb9d",
   "metadata": {},
   "outputs": [],
   "source": [
    "from sklearn.metrics import roc_auc_score, make_scorer, accuracy_score\n",
    "def auc_scoring(y, y_pred):\n",
    "    auc_threshold = np.median(y)\n",
    "    print(auc_threshold)\n",
    "    ix_true = np.where(y > auc_threshold)[0]\n",
    "    y_binary = np.zeros(y.shape)\n",
    "    y_binary[ix_true] = 1\n",
    "    score = roc_auc_score(y_binary, y_pred - auc_threshold)\n",
    "    print()\n",
    "    return score"
   ]
  },
  {
   "cell_type": "code",
   "execution_count": 20,
   "id": "3293bebb",
   "metadata": {},
   "outputs": [
    {
     "name": "stdout",
     "output_type": "stream",
     "text": [
      "(636, 140) (636,)\n"
     ]
    },
    {
     "ename": "TypeError",
     "evalue": "random_crossval() got an unexpected keyword argument 'metric'",
     "output_type": "error",
     "traceback": [
      "\u001b[0;31m---------------------------------------------------------------------------\u001b[0m",
      "\u001b[0;31mTypeError\u001b[0m                                 Traceback (most recent call last)",
      "\u001b[0;32m/tmp/ipykernel_8717/605591580.py\u001b[0m in \u001b[0;36m<module>\u001b[0;34m\u001b[0m\n\u001b[1;32m     18\u001b[0m \u001b[0mprint\u001b[0m\u001b[0;34m(\u001b[0m\u001b[0mX\u001b[0m\u001b[0;34m.\u001b[0m\u001b[0mshape\u001b[0m\u001b[0;34m,\u001b[0m \u001b[0my\u001b[0m\u001b[0;34m.\u001b[0m\u001b[0mshape\u001b[0m\u001b[0;34m)\u001b[0m\u001b[0;34m\u001b[0m\u001b[0;34m\u001b[0m\u001b[0m\n\u001b[1;32m     19\u001b[0m \u001b[0;34m\u001b[0m\u001b[0m\n\u001b[0;32m---> 20\u001b[0;31m \u001b[0mrscores\u001b[0m\u001b[0;34m.\u001b[0m\u001b[0mappend\u001b[0m\u001b[0;34m(\u001b[0m\u001b[0mrandom_crossval\u001b[0m\u001b[0;34m(\u001b[0m\u001b[0mX\u001b[0m\u001b[0;34m,\u001b[0m \u001b[0my\u001b[0m\u001b[0;34m,\u001b[0m \u001b[0mmodel\u001b[0m\u001b[0;34m,\u001b[0m \u001b[0mmetric\u001b[0m \u001b[0;34m=\u001b[0m \u001b[0mmetric\u001b[0m\u001b[0;34m)\u001b[0m\u001b[0;34m)\u001b[0m\u001b[0;34m\u001b[0m\u001b[0;34m\u001b[0m\u001b[0m\n\u001b[0m\u001b[1;32m     21\u001b[0m \u001b[0;34m\u001b[0m\u001b[0m\n\u001b[1;32m     22\u001b[0m \u001b[0mbscores\u001b[0m\u001b[0;34m.\u001b[0m\u001b[0mappend\u001b[0m\u001b[0;34m(\u001b[0m\u001b[0mblock_crossval\u001b[0m\u001b[0;34m(\u001b[0m\u001b[0mX\u001b[0m\u001b[0;34m,\u001b[0m \u001b[0my\u001b[0m\u001b[0;34m,\u001b[0m \u001b[0mmodel\u001b[0m\u001b[0;34m,\u001b[0m \u001b[0mblocks_idx\u001b[0m\u001b[0;34m,\u001b[0m \u001b[0mmetric\u001b[0m \u001b[0;34m=\u001b[0m \u001b[0mmetric\u001b[0m\u001b[0;34m)\u001b[0m\u001b[0;34m)\u001b[0m\u001b[0;34m\u001b[0m\u001b[0;34m\u001b[0m\u001b[0m\n",
      "\u001b[0;31mTypeError\u001b[0m: random_crossval() got an unexpected keyword argument 'metric'"
     ]
    }
   ],
   "source": [
    "import xgboost as xgb\n",
    "\n",
    "model = xgb.XGBClassifier(max_depth=5,\n",
    "                          n_estimators=10,\n",
    "                          n_jobs=3,\n",
    "                          eval_metric=\"logloss\",\n",
    "                          use_label_encoder=False)\n",
    "\n",
    "exp= \"8\"\n",
    "bscores = []\n",
    "rscores = []\n",
    "\n",
    "metric = roc_auc_score #accuracy_score #auc_scoring\n",
    "\n",
    "with open('results/psid_'+exp+'.pickle', 'rb') as handle:\n",
    "    X, y, blocks_idx = pickle.load(handle)\n",
    "\n",
    "print(X.shape, y.shape)\n",
    "\n",
    "rscores.append(random_crossval(X, y, model, metric = metric))\n",
    "\n",
    "bscores.append(block_crossval(X, y, model, blocks_idx, metric = metric))\n"
   ]
  },
  {
   "cell_type": "code",
   "execution_count": 8,
   "id": "dda4e18f",
   "metadata": {},
   "outputs": [
    {
     "ename": "NameError",
     "evalue": "name 'xgb' is not defined",
     "output_type": "error",
     "traceback": [
      "\u001b[0;31m---------------------------------------------------------------------------\u001b[0m",
      "\u001b[0;31mNameError\u001b[0m                                 Traceback (most recent call last)",
      "\u001b[0;32m/tmp/ipykernel_8717/789889144.py\u001b[0m in \u001b[0;36m<module>\u001b[0;34m\u001b[0m\n\u001b[0;32m----> 1\u001b[0;31m model = xgb.XGBClassifier(max_depth=5,\n\u001b[0m\u001b[1;32m      2\u001b[0m                           \u001b[0mn_estimators\u001b[0m\u001b[0;34m=\u001b[0m\u001b[0;36m10\u001b[0m\u001b[0;34m,\u001b[0m\u001b[0;34m\u001b[0m\u001b[0;34m\u001b[0m\u001b[0m\n\u001b[1;32m      3\u001b[0m                           \u001b[0mn_jobs\u001b[0m\u001b[0;34m=\u001b[0m\u001b[0;36m3\u001b[0m\u001b[0;34m,\u001b[0m\u001b[0;34m\u001b[0m\u001b[0;34m\u001b[0m\u001b[0m\n\u001b[1;32m      4\u001b[0m                           \u001b[0meval_metric\u001b[0m\u001b[0;34m=\u001b[0m\u001b[0;34m\"logloss\"\u001b[0m\u001b[0;34m,\u001b[0m\u001b[0;34m\u001b[0m\u001b[0;34m\u001b[0m\u001b[0m\n\u001b[1;32m      5\u001b[0m                           use_label_encoder=False)\n",
      "\u001b[0;31mNameError\u001b[0m: name 'xgb' is not defined"
     ]
    }
   ],
   "source": [
    "import xgboost as xgb\n",
    "\n",
    "model = xgb.XGBClassifier(max_depth=5,\n",
    "                          n_estimators=10,\n",
    "                          n_jobs=3,\n",
    "                          eval_metric=\"logloss\",\n",
    "                          use_label_encoder=False)\n",
    "\n",
    "exp= \"8\"\n",
    "bscores = []\n",
    "rscores = []\n",
    "\n",
    "with open('results/psid_'+exp+'.pickle', 'rb') as handle:\n",
    "    X, y, blocks_idx = pickle.load(handle)\n",
    "\n",
    "print(X.shape, y.shape)\n",
    "try:\n",
    "    rscores.append(random_crossval(X, y, model))\n",
    "except:\n",
    "    rscores.append([0])\n",
    "bscores.append(block_crossval(X, y, model, blocks_idx))\n"
   ]
  },
  {
   "cell_type": "code",
   "execution_count": null,
   "id": "735cad06",
   "metadata": {},
   "outputs": [],
   "source": []
  }
 ],
 "metadata": {
  "kernelspec": {
   "display_name": "Python 3 (ipykernel)",
   "language": "python",
   "name": "python3"
  },
  "language_info": {
   "codemirror_mode": {
    "name": "ipython",
    "version": 3
   },
   "file_extension": ".py",
   "mimetype": "text/x-python",
   "name": "python",
   "nbconvert_exporter": "python",
   "pygments_lexer": "ipython3",
   "version": "3.7.5"
  }
 },
 "nbformat": 4,
 "nbformat_minor": 5
}

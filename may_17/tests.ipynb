{
 "cells": [
  {
   "cell_type": "code",
   "execution_count": 1,
   "id": "b49befa1",
   "metadata": {},
   "outputs": [
    {
     "ename": "SyntaxError",
     "evalue": "invalid syntax (1986161080.py, line 1)",
     "output_type": "error",
     "traceback": [
      "\u001b[0;36m  File \u001b[0;32m\"/tmp/ipykernel_7238/1986161080.py\"\u001b[0;36m, line \u001b[0;32m1\u001b[0m\n\u001b[0;31m    len([0. 0. 0. 0. 0. 0. 0. 0. 0. 0. 0. 0. 1. 1. 1. 1. 1. 1. 1. 1. 1. 1. 1. 1.\u001b[0m\n\u001b[0m             ^\u001b[0m\n\u001b[0;31mSyntaxError\u001b[0m\u001b[0;31m:\u001b[0m invalid syntax\n"
     ]
    }
   ],
   "source": [
    "len([0. 0. 0. 0. 0. 0. 0. 0. 0. 0. 0. 0. 1. 1. 1. 1. 1. 1. 1. 1. 1. 1. 1. 1.\n",
    " 0. 0. 0. 0. 0. 0. 0. 0. 0. 0. 0. 0. 1. 1. 1. 1. 1. 1. 1. 1. 1. 1. 1. 1.\n",
    " 0. 0. 0. 0. 0. 0. 0. 0. 0. 0. 0. 0. 1. 1. 1. 1. 1. 1. 1. 1. 1. 1. 1. 1.\n",
    " 0. 0. 0. 0. 0. 0. 0. 0. 0. 0. 0. 0. 1. 1. 1. 1. 1. 1. 1. 1. 1. 1. 1. 1.\n",
    " 0. 0. 0. 0. 0. 0. 0. 0. 0. 0. 0. 0. 1. 1. 1. 1. 1. 1. 1. 1. 1. 1. 1. 1.])"
   ]
  },
  {
   "cell_type": "code",
   "execution_count": 18,
   "id": "b65f4785",
   "metadata": {},
   "outputs": [],
   "source": [
    "import os\n",
    "import sys\n",
    "\n",
    "import matplotlib.pyplot as plt\n",
    "import pickle\n",
    "import numpy as np \n",
    "\n",
    "sys.path.append(\"..\")\n",
    "from utils.utils import block_crossval, random_crossval"
   ]
  },
  {
   "cell_type": "code",
   "execution_count": 2,
   "id": "38713f42",
   "metadata": {},
   "outputs": [],
   "source": [
    "search_range = range(5, 35, 2)\n",
    "def plot_csp_results(exp):\n",
    "    with open('results/csp_' + exp + '_tuning.pickle', 'rb') as handle:\n",
    "        rscores, bscores = pickle.load(handle)\n",
    "        \n",
    "    print(\"CSP - maximal accuracy over 2hz frequency bands : \", max([np.mean(b) for b in bscores]))\n",
    "    plt.boxplot(bscores)\n",
    "    plt.xticks(range(len(search_range)),search_range)\n",
    "    plt.show()\n",
    "\n",
    "    \n",
    "    "
   ]
  },
  {
   "cell_type": "code",
   "execution_count": 10,
   "id": "d3f1bb9d",
   "metadata": {},
   "outputs": [],
   "source": [
    "from sklearn.metrics import roc_auc_score, make_scorer, accuracy_score\n",
    "def auc_scoring(y, y_pred):\n",
    "    auc_threshold = np.median(y)\n",
    "    print(auc_threshold)\n",
    "    ix_true = np.where(y > auc_threshold)[0]\n",
    "    y_binary = np.zeros(y.shape)\n",
    "    y_binary[ix_true] = 1\n",
    "    score = roc_auc_score(y_binary, y_pred - auc_threshold)\n",
    "    print()\n",
    "    return score"
   ]
  },
  {
   "cell_type": "code",
   "execution_count": 20,
   "id": "3293bebb",
   "metadata": {},
   "outputs": [
    {
     "name": "stdout",
     "output_type": "stream",
     "text": [
      "(636, 140) (636,)\n"
     ]
    },
    {
     "ename": "TypeError",
     "evalue": "random_crossval() got an unexpected keyword argument 'metric'",
     "output_type": "error",
     "traceback": [
      "\u001b[0;31m---------------------------------------------------------------------------\u001b[0m",
      "\u001b[0;31mTypeError\u001b[0m                                 Traceback (most recent call last)",
      "\u001b[0;32m/tmp/ipykernel_8717/605591580.py\u001b[0m in \u001b[0;36m<module>\u001b[0;34m\u001b[0m\n\u001b[1;32m     18\u001b[0m \u001b[0mprint\u001b[0m\u001b[0;34m(\u001b[0m\u001b[0mX\u001b[0m\u001b[0;34m.\u001b[0m\u001b[0mshape\u001b[0m\u001b[0;34m,\u001b[0m \u001b[0my\u001b[0m\u001b[0;34m.\u001b[0m\u001b[0mshape\u001b[0m\u001b[0;34m)\u001b[0m\u001b[0;34m\u001b[0m\u001b[0;34m\u001b[0m\u001b[0m\n\u001b[1;32m     19\u001b[0m \u001b[0;34m\u001b[0m\u001b[0m\n\u001b[0;32m---> 20\u001b[0;31m \u001b[0mrscores\u001b[0m\u001b[0;34m.\u001b[0m\u001b[0mappend\u001b[0m\u001b[0;34m(\u001b[0m\u001b[0mrandom_crossval\u001b[0m\u001b[0;34m(\u001b[0m\u001b[0mX\u001b[0m\u001b[0;34m,\u001b[0m \u001b[0my\u001b[0m\u001b[0;34m,\u001b[0m \u001b[0mmodel\u001b[0m\u001b[0;34m,\u001b[0m \u001b[0mmetric\u001b[0m \u001b[0;34m=\u001b[0m \u001b[0mmetric\u001b[0m\u001b[0;34m)\u001b[0m\u001b[0;34m)\u001b[0m\u001b[0;34m\u001b[0m\u001b[0;34m\u001b[0m\u001b[0m\n\u001b[0m\u001b[1;32m     21\u001b[0m \u001b[0;34m\u001b[0m\u001b[0m\n\u001b[1;32m     22\u001b[0m \u001b[0mbscores\u001b[0m\u001b[0;34m.\u001b[0m\u001b[0mappend\u001b[0m\u001b[0;34m(\u001b[0m\u001b[0mblock_crossval\u001b[0m\u001b[0;34m(\u001b[0m\u001b[0mX\u001b[0m\u001b[0;34m,\u001b[0m \u001b[0my\u001b[0m\u001b[0;34m,\u001b[0m \u001b[0mmodel\u001b[0m\u001b[0;34m,\u001b[0m \u001b[0mblocks_idx\u001b[0m\u001b[0;34m,\u001b[0m \u001b[0mmetric\u001b[0m \u001b[0;34m=\u001b[0m \u001b[0mmetric\u001b[0m\u001b[0;34m)\u001b[0m\u001b[0;34m)\u001b[0m\u001b[0;34m\u001b[0m\u001b[0;34m\u001b[0m\u001b[0m\n",
      "\u001b[0;31mTypeError\u001b[0m: random_crossval() got an unexpected keyword argument 'metric'"
     ]
    }
   ],
   "source": [
    "import xgboost as xgb\n",
    "\n",
    "model = xgb.XGBClassifier(max_depth=5,\n",
    "                          n_estimators=10,\n",
    "                          n_jobs=3,\n",
    "                          eval_metric=\"logloss\",\n",
    "                          use_label_encoder=False)\n",
    "\n",
    "exp= \"8\"\n",
    "bscores = []\n",
    "rscores = []\n",
    "\n",
    "metric = roc_auc_score #accuracy_score #auc_scoring\n",
    "\n",
    "with open('results/psid_'+exp+'.pickle', 'rb') as handle:\n",
    "    X, y, blocks_idx = pickle.load(handle)\n",
    "\n",
    "print(X.shape, y.shape)\n",
    "\n",
    "rscores.append(random_crossval(X, y, model, metric = metric))\n",
    "\n",
    "bscores.append(block_crossval(X, y, model, blocks_idx, metric = metric))\n"
   ]
  },
  {
   "cell_type": "code",
   "execution_count": 8,
   "id": "dda4e18f",
   "metadata": {},
   "outputs": [
    {
     "ename": "NameError",
     "evalue": "name 'xgb' is not defined",
     "output_type": "error",
     "traceback": [
      "\u001b[0;31m---------------------------------------------------------------------------\u001b[0m",
      "\u001b[0;31mNameError\u001b[0m                                 Traceback (most recent call last)",
      "\u001b[0;32m/tmp/ipykernel_8717/789889144.py\u001b[0m in \u001b[0;36m<module>\u001b[0;34m\u001b[0m\n\u001b[0;32m----> 1\u001b[0;31m model = xgb.XGBClassifier(max_depth=5,\n\u001b[0m\u001b[1;32m      2\u001b[0m                           \u001b[0mn_estimators\u001b[0m\u001b[0;34m=\u001b[0m\u001b[0;36m10\u001b[0m\u001b[0;34m,\u001b[0m\u001b[0;34m\u001b[0m\u001b[0;34m\u001b[0m\u001b[0m\n\u001b[1;32m      3\u001b[0m                           \u001b[0mn_jobs\u001b[0m\u001b[0;34m=\u001b[0m\u001b[0;36m3\u001b[0m\u001b[0;34m,\u001b[0m\u001b[0;34m\u001b[0m\u001b[0;34m\u001b[0m\u001b[0m\n\u001b[1;32m      4\u001b[0m                           \u001b[0meval_metric\u001b[0m\u001b[0;34m=\u001b[0m\u001b[0;34m\"logloss\"\u001b[0m\u001b[0;34m,\u001b[0m\u001b[0;34m\u001b[0m\u001b[0;34m\u001b[0m\u001b[0m\n\u001b[1;32m      5\u001b[0m                           use_label_encoder=False)\n",
      "\u001b[0;31mNameError\u001b[0m: name 'xgb' is not defined"
     ]
    }
   ],
   "source": [
    "import xgboost as xgb\n",
    "\n",
    "model = xgb.XGBClassifier(max_depth=5,\n",
    "                          n_estimators=10,\n",
    "                          n_jobs=3,\n",
    "                          eval_metric=\"logloss\",\n",
    "                          use_label_encoder=False)\n",
    "\n",
    "exp= \"8\"\n",
    "bscores = []\n",
    "rscores = []\n",
    "\n",
    "with open('results/psid_'+exp+'.pickle', 'rb') as handle:\n",
    "    X, y, blocks_idx = pickle.load(handle)\n",
    "\n",
    "print(X.shape, y.shape)\n",
    "try:\n",
    "    rscores.append(random_crossval(X, y, model))\n",
    "except:\n",
    "    rscores.append([0])\n",
    "bscores.append(block_crossval(X, y, model, blocks_idx))\n"
   ]
  },
  {
   "cell_type": "code",
   "execution_count": null,
   "id": "735cad06",
   "metadata": {},
   "outputs": [],
   "source": [
    "##### see if channel names are kept after the ICA"
   ]
  },
  {
   "cell_type": "code",
   "execution_count": 8,
   "id": "34c8ce03",
   "metadata": {},
   "outputs": [],
   "source": [
    "import sys\n",
    "sys.path.append(\"..\")\n",
    "from utils.csp_example import project_ica"
   ]
  },
  {
   "cell_type": "code",
   "execution_count": 3,
   "id": "ecbe6429",
   "metadata": {},
   "outputs": [],
   "source": [
    "import mne"
   ]
  },
  {
   "cell_type": "code",
   "execution_count": 4,
   "id": "b562d001",
   "metadata": {},
   "outputs": [],
   "source": [
    "exp=\"1\""
   ]
  },
  {
   "cell_type": "code",
   "execution_count": 5,
   "id": "e04c704a",
   "metadata": {},
   "outputs": [
    {
     "name": "stdout",
     "output_type": "stream",
     "text": [
      "Reading /media/tidiane/D:/dev/bsd_lab/psid/may_17/data/VP1_epo.fif ...\n",
      "    Found the data of interest:\n",
      "        t =   -2000.00 ...    9010.00 ms\n",
      "        0 CTF compensation matrices available\n",
      "0 bad epochs dropped\n",
      "Not setting metadata\n",
      "120 matching events found\n",
      "No baseline correction applied\n",
      "0 projection items activated\n",
      "Reading data/VP1_ica.fif ...\n",
      "Now restoring ICA solution ...\n",
      "Ready.\n"
     ]
    }
   ],
   "source": [
    "epochs = mne.read_epochs(\"data/VP\" + exp + \"_epo.fif\")\n",
    "ica_model = mne.preprocessing.read_ica(\"data/VP\" + exp + \"_ica.fif\")"
   ]
  },
  {
   "cell_type": "code",
   "execution_count": 9,
   "id": "ea854bce",
   "metadata": {},
   "outputs": [],
   "source": [
    "pick_ch = [ch for ch in epochs.info['ch_names'] if ch in ica_model.info['ch_names']]\n",
    "epochs_ica = project_ica(epochs.copy().pick_types(eeg=True).pick_channels(pick_ch), ica_model)"
   ]
  },
  {
   "cell_type": "code",
   "execution_count": 12,
   "id": "a640fbcb",
   "metadata": {},
   "outputs": [
    {
     "data": {
      "text/plain": [
       "['Fp1',\n",
       " 'Fp2',\n",
       " 'F3',\n",
       " 'F4',\n",
       " 'C3',\n",
       " 'C4',\n",
       " 'P3',\n",
       " 'P4',\n",
       " 'O1',\n",
       " 'O2',\n",
       " 'F7',\n",
       " 'F8',\n",
       " 'T7',\n",
       " 'T8',\n",
       " 'P7',\n",
       " 'P8',\n",
       " 'Fz',\n",
       " 'Cz',\n",
       " 'Pz',\n",
       " 'FC1',\n",
       " 'FC2',\n",
       " 'CP1',\n",
       " 'CP2',\n",
       " 'FC5',\n",
       " 'FC6',\n",
       " 'CP5',\n",
       " 'CP6',\n",
       " 'F9',\n",
       " 'F10',\n",
       " 'P9',\n",
       " 'P10',\n",
       " 'AF7',\n",
       " 'AF3',\n",
       " 'AF4',\n",
       " 'AF8',\n",
       " 'F5',\n",
       " 'F1',\n",
       " 'F2',\n",
       " 'F6',\n",
       " 'FT7',\n",
       " 'FC3',\n",
       " 'FCz',\n",
       " 'FC4',\n",
       " 'FT8',\n",
       " 'C5',\n",
       " 'C1',\n",
       " 'C2',\n",
       " 'C6',\n",
       " 'TP7',\n",
       " 'CP3',\n",
       " 'CPz',\n",
       " 'CP4',\n",
       " 'TP8',\n",
       " 'P5',\n",
       " 'P1',\n",
       " 'P2',\n",
       " 'P6',\n",
       " 'PO7',\n",
       " 'PO5',\n",
       " 'POz',\n",
       " 'PO6',\n",
       " 'PO8',\n",
       " 'Oz',\n",
       " 'EOGvu',\n",
       " 'x_EMG1',\n",
       " 'x_EMG2',\n",
       " 'x_resp',\n",
       " 'x_pulse',\n",
       " 'dist_t_n',\n",
       " 'pos_t_x',\n",
       " 'pos_t_y',\n",
       " 'speed_t_x',\n",
       " 'speed_t_y',\n",
       " 'accel_t_x',\n",
       " 'accel_t_y',\n",
       " 'jerk_t_x',\n",
       " 'jerk_t_y',\n",
       " 'blk_idx',\n",
       " 'trial_nbr',\n",
       " 'stim']"
      ]
     },
     "execution_count": 12,
     "metadata": {},
     "output_type": "execute_result"
    }
   ],
   "source": [
    "epochs.info['ch_names']"
   ]
  },
  {
   "cell_type": "code",
   "execution_count": 20,
   "id": "4137b66c",
   "metadata": {},
   "outputs": [],
   "source": [
    "import numpy as np\n",
    "stim_idx = epochs.info['ch_names'].index('stim')\n",
    "stim = np.nanmean(epochs.get_data()[:, stim_idx, :], axis=1)\n",
    "#np.asarray(epochs.get_data()[:, stim_idx, :])"
   ]
  },
  {
   "cell_type": "code",
   "execution_count": 22,
   "id": "3475f251",
   "metadata": {},
   "outputs": [
    {
     "data": {
      "text/plain": [
       "[<matplotlib.lines.Line2D at 0x7fb7887c4210>]"
      ]
     },
     "execution_count": 22,
     "metadata": {},
     "output_type": "execute_result"
    },
    {
     "data": {
      "image/png": "[encoded data removed]",
      "text/plain": [
       "<Figure size 432x288 with 1 Axes>"
      ]
     },
     "metadata": {
      "needs_background": "light"
     },
     "output_type": "display_data"
    }
   ],
   "source": [
    "import matplotlib.pyplot as plt\n",
    "plt.plot(stim)"
   ]
  },
  {
   "cell_type": "code",
   "execution_count": 24,
   "id": "690d7293",
   "metadata": {},
   "outputs": [],
   "source": [
    "pick_ch = [ch for ch in epochs.info['ch_names'] if ch in ica_model.info['ch_names']]\n",
    "epochs_ica = project_ica(epochs.copy().pick_types(eeg=True).pick_channels(pick_ch), ica_model)"
   ]
  },
  {
   "cell_type": "code",
   "execution_count": 26,
   "id": "eeeace48",
   "metadata": {},
   "outputs": [
    {
     "ename": "TypeError",
     "evalue": "pick_channels() got an unexpected keyword argument 'exclude'",
     "output_type": "error",
     "traceback": [
      "\u001b[0;31m---------------------------------------------------------------------------\u001b[0m",
      "\u001b[0;31mTypeError\u001b[0m                                 Traceback (most recent call last)",
      "\u001b[0;32m/tmp/ipykernel_15440/1251382491.py\u001b[0m in \u001b[0;36m<module>\u001b[0;34m\u001b[0m\n\u001b[0;32m----> 1\u001b[0;31m \u001b[0mepochs\u001b[0m\u001b[0;34m.\u001b[0m\u001b[0mcopy\u001b[0m\u001b[0;34m(\u001b[0m\u001b[0;34m)\u001b[0m\u001b[0;34m.\u001b[0m\u001b[0mpick_channels\u001b[0m\u001b[0;34m(\u001b[0m\u001b[0mepochs\u001b[0m\u001b[0;34m.\u001b[0m\u001b[0mcopy\u001b[0m\u001b[0;34m(\u001b[0m\u001b[0;34m)\u001b[0m\u001b[0;34m.\u001b[0m\u001b[0minfo\u001b[0m\u001b[0;34m[\u001b[0m\u001b[0;34m'ch_names'\u001b[0m\u001b[0;34m]\u001b[0m\u001b[0;34m,\u001b[0m\u001b[0mexclude\u001b[0m\u001b[0;34m=\u001b[0m\u001b[0;34m[\u001b[0m\u001b[0;34m\"stim\"\u001b[0m\u001b[0;34m]\u001b[0m\u001b[0;34m)\u001b[0m\u001b[0;34m.\u001b[0m\u001b[0minfo\u001b[0m\u001b[0;34m[\u001b[0m\u001b[0;34m'ch_names'\u001b[0m\u001b[0;34m]\u001b[0m\u001b[0;34m\u001b[0m\u001b[0;34m\u001b[0m\u001b[0m\n\u001b[0m",
      "\u001b[0;31mTypeError\u001b[0m: pick_channels() got an unexpected keyword argument 'exclude'"
     ]
    }
   ],
   "source": [
    "epochs.copy().pick_channels(epochs.copy().info['ch_names'],exclude=[\"stim\"]).info['ch_names']"
   ]
  },
  {
   "cell_type": "code",
   "execution_count": 33,
   "id": "fad411c6",
   "metadata": {},
   "outputs": [
    {
     "data": {
      "text/plain": [
       "['x_EMG1',\n",
       " 'x_EMG2',\n",
       " 'x_resp',\n",
       " 'x_pulse',\n",
       " 'dist_t_n',\n",
       " 'pos_t_x',\n",
       " 'pos_t_y',\n",
       " 'speed_t_x',\n",
       " 'speed_t_y',\n",
       " 'accel_t_x',\n",
       " 'accel_t_y',\n",
       " 'jerk_t_x',\n",
       " 'jerk_t_y',\n",
       " 'blk_idx',\n",
       " 'trial_nbr',\n",
       " 'stim']"
      ]
     },
     "execution_count": 33,
     "metadata": {},
     "output_type": "execute_result"
    }
   ],
   "source": [
    "pick_ch = [ch for ch in epochs.info['ch_names'] if ch != \"stim\"]\n",
    "epochs.copy().pick_types(misc=True).pick_channels(pick_ch).info['ch_names']"
   ]
  },
  {
   "cell_type": "code",
   "execution_count": 30,
   "id": "884774fe",
   "metadata": {},
   "outputs": [
    {
     "data": {
      "text/html": [
       "<table class=\"table table-hover table-striped table-sm table-responsive small\">\n",
       "    <tr>\n",
       "        <th>Measurement date</th>\n",
       "        \n",
       "        <td>January 01, 2000  00:00:00 GMT</td>\n",
       "        \n",
       "    </tr>\n",
       "    <tr>\n",
       "        <th>Experimenter</th>\n",
       "        \n",
       "        <td>mne_anonymize</td>\n",
       "        \n",
       "    </tr>\n",
       "        <th>Participant</th>\n",
       "        \n",
       "        <td>Unknown</td>\n",
       "        \n",
       "    </tr>\n",
       "    <tr>\n",
       "        <th>Digitized points</th>\n",
       "        \n",
       "        <td>0 points</td>\n",
       "        \n",
       "    </tr>\n",
       "    <tr>\n",
       "        <th>Good channels</th>\n",
       "        <td>63 EEG, 1 EOG, 16 misc</td>\n",
       "    </tr>\n",
       "    <tr>\n",
       "        <th>Bad channels</th>\n",
       "        <td>None</td>\n",
       "    </tr>\n",
       "    <tr>\n",
       "        <th>EOG channels</th>\n",
       "        <td>EOGvu</td>\n",
       "    </tr>\n",
       "    <tr>\n",
       "        <th>ECG channels</th>\n",
       "        <td>Not available</td>\n",
       "    \n",
       "    <tr>\n",
       "        <th>Sampling frequency</th>\n",
       "        <td>300.00 Hz</td>\n",
       "    </tr>\n",
       "    \n",
       "    \n",
       "    <tr>\n",
       "        <th>Highpass</th>\n",
       "        <td>0.00 Hz</td>\n",
       "    </tr>\n",
       "    \n",
       "    \n",
       "    <tr>\n",
       "        <th>Lowpass</th>\n",
       "        <td>45.00 Hz</td>\n",
       "    </tr>\n",
       "    \n",
       "    \n",
       "</table>"
      ],
      "text/plain": [
       "<Info | 12 non-empty values\n",
       " bads: []\n",
       " ch_names: Fp1, Fp2, F3, F4, C3, C4, P3, P4, O1, O2, F7, F8, T7, T8, P7, ...\n",
       " chs: 63 EEG, 1 EOG, 16 misc\n",
       " custom_ref_applied: False\n",
       " description: Anonymized using a time shift to preserve age at acquisition\n",
       " dig: 66 items (3 Cardinal, 63 EEG)\n",
       " experimenter: mne_anonymize\n",
       " file_id: 4 items (dict)\n",
       " highpass: 0.0 Hz\n",
       " lowpass: 45.0 Hz\n",
       " meas_date: 2000-01-01 00:00:00 UTC\n",
       " meas_id: 4 items (dict)\n",
       " nchan: 80\n",
       " projs: []\n",
       " sfreq: 300.0 Hz\n",
       ">"
      ]
     },
     "execution_count": 30,
     "metadata": {},
     "output_type": "execute_result"
    }
   ],
   "source": [
    "epochs.info"
   ]
  },
  {
   "cell_type": "code",
   "execution_count": null,
   "id": "5a069a5c",
   "metadata": {},
   "outputs": [],
   "source": []
  }
 ],
 "metadata": {
  "kernelspec": {
   "display_name": "Python 3 (ipykernel)",
   "language": "python",
   "name": "python3"
  },
  "language_info": {
   "codemirror_mode": {
    "name": "ipython",
    "version": 3
   },
   "file_extension": ".py",
   "mimetype": "text/x-python",
   "name": "python",
   "nbconvert_exporter": "python",
   "pygments_lexer": "ipython3",
   "version": "3.7.5"
  }
 },
 "nbformat": 4,
 "nbformat_minor": 5
}

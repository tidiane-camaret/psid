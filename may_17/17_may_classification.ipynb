{
 "cells": [
  {
   "cell_type": "code",
   "execution_count": 1,
   "id": "e78a9ec7",
   "metadata": {},
   "outputs": [],
   "source": [
    "import os\n",
    "import sys\n",
    "\n",
    "import matplotlib.pyplot as plt\n",
    "import pickle\n",
    "import numpy as np "
   ]
  },
  {
   "cell_type": "code",
   "execution_count": 2,
   "id": "317b0899",
   "metadata": {},
   "outputs": [],
   "source": [
    "def plot_psid_results(exp):\n",
    "    with open('results/psid_' + exp + '_acc.pickle', 'rb') as handle:\n",
    "        bscores, bscores_f = pickle.load(handle)\n",
    "\n",
    "    #print(bscores_f[0])\n",
    "    #fig, axs = plt.subplots(2)\n",
    "\n",
    "    \n",
    "    print(\"PSID - mean accuracy :  \",np.mean(bscores[0]))\n",
    "\n",
    "    #print(\"PSID - mean accuracy (filtered data) : \", np.mean(bscores_f[0]))\n",
    "    plt.boxplot(bscores[0])\n",
    "    plt.show()\n",
    "    print(\"PSID - XGB FEATURE IMPORTANCE\")\n",
    "    \n",
    "    for i in range(len(bscores[1])):\n",
    "        plt.imshow(bscores[1][i].reshape((7,20)))\n",
    "        plt.show()"
   ]
  },
  {
   "cell_type": "code",
   "execution_count": 3,
   "id": "4519abbe",
   "metadata": {},
   "outputs": [],
   "source": [
    "import xgboost as xgb\n",
    "model = xgb.XGBClassifier(max_depth=5,\n",
    "                          n_estimators=10,\n",
    "                          n_jobs=3,\n",
    "                          eval_metric=\"logloss\",\n",
    "                          use_label_encoder=False)"
   ]
  },
  {
   "cell_type": "code",
   "execution_count": 6,
   "id": "67ae93fd",
   "metadata": {},
   "outputs": [],
   "source": [
    "from sklearn.metrics import roc_auc_score, make_scorer, accuracy_score\n",
    "def auc_scoring(y, y_pred):\n",
    "    auc_threshold = np.median(y)\n",
    "    print(auc_threshold)\n",
    "    ix_true = np.where(y > auc_threshold)[0]\n",
    "    y_binary = np.zeros(y.shape)\n",
    "    y_binary[ix_true] = 1\n",
    "    score = roc_auc_score(y_binary, y_pred - auc_threshold)\n",
    "    print()\n",
    "    return score\n",
    "sys.path.append(\"..\")\n",
    "from utils.features_utils import block_crossval"
   ]
  },
  {
   "cell_type": "code",
   "execution_count": 9,
   "id": "785c0644",
   "metadata": {},
   "outputs": [],
   "source": [
    "def psid_classification(exp,\n",
    "                       metric = roc_auc_score,\n",
    "                       freq_buckets = [0,1,2,3,4,5,6],\n",
    "                       psid_dims = list(range(20)),\n",
    "                       ):\n",
    "    metric = roc_auc_score #accuracy_score #auc_scoring\n",
    "\n",
    "    with open('results/psid_' + exp + '.pickle', 'rb') as handle:\n",
    "        X, y, blocks_idx = pickle.load(handle)\n",
    "    nb_obs = X.shape[0]\n",
    "    #print(X.shape)\n",
    "    X = X.reshape((nb_obs,7,20))\n",
    "    #print(X.shape)\n",
    "    X = X[:, freq_buckets , :] \n",
    "    #print(X.shape)\n",
    "    X = X[:,:,psid_dims]\n",
    "    #print(X.shape)\n",
    "    X = X.reshape((nb_obs,-1))\n",
    "    #print(X.shape)\n",
    "\n",
    "    crossval_res = block_crossval(X, y, model, blocks_idx, \n",
    "                                  metric = metric,\n",
    "                                  do_plot=True, \n",
    "                                  do_feature_imp=True)\n",
    "\n",
    "    return crossval_res"
   ]
  },
  {
   "cell_type": "code",
   "execution_count": 16,
   "id": "b9971cc1",
   "metadata": {},
   "outputs": [
    {
     "name": "stdout",
     "output_type": "stream",
     "text": [
      "================================================================================\n",
      "Processing split 1\n",
      "================================================================================\n",
      "Processing split 2\n",
      "================================================================================\n",
      "Processing split 3\n",
      "================================================================================\n",
      "Processing split 4\n",
      "================================================================================\n",
      "Processing split 5\n",
      "Scores: [0.8472222222222222, 0.7777777777777777, 0.8055555555555556, 0.8611111111111112, 0.8611111111111112] - 83.06%\n"
     ]
    },
    {
     "data": {
      "image/png": "[encoded data removed]",
      "text/plain": [
       "<Figure size 432x288 with 1 Axes>"
      ]
     },
     "metadata": {
      "needs_background": "light"
     },
     "output_type": "display_data"
    },
    {
     "name": "stdout",
     "output_type": "stream",
     "text": [
      "0.8305555555555555\n",
      "PSID - XGB FEATURE IMPORTANCE\n"
     ]
    },
    {
     "data": {
      "image/png": "[encoded data removed]",
      "text/plain": [
       "<Figure size 432x288 with 1 Axes>"
      ]
     },
     "metadata": {
      "needs_background": "light"
     },
     "output_type": "display_data"
    },
    {
     "data": {
      "image/png": "[encoded data removed]",
      "text/plain": [
       "<Figure size 432x288 with 1 Axes>"
      ]
     },
     "metadata": {
      "needs_background": "light"
     },
     "output_type": "display_data"
    },
    {
     "data": {
      "image/png": "[encoded data removed]",
      "text/plain": [
       "<Figure size 432x288 with 1 Axes>"
      ]
     },
     "metadata": {
      "needs_background": "light"
     },
     "output_type": "display_data"
    },
    {
     "data": {
      "image/png": "[encoded data removed]",
      "text/plain": [
       "<Figure size 432x288 with 1 Axes>"
      ]
     },
     "metadata": {
      "needs_background": "light"
     },
     "output_type": "display_data"
    },
    {
     "data": {
      "image/png": "[encoded data removed]",
      "text/plain": [
       "<Figure size 432x288 with 1 Axes>"
      ]
     },
     "metadata": {
      "needs_background": "light"
     },
     "output_type": "display_data"
    }
   ],
   "source": [
    "freq_buckets = [0,1,2,3,4,5,6]\n",
    "psid_dims = list(range(20))\n",
    "res = psid_classification(exp=\"2\",\n",
    "                         metric=roc_auc_score,)\n",
    "print(np.mean(res[0]))\n",
    "print(\"PSID - XGB FEATURE IMPORTANCE\")\n",
    "\n",
    "for i in range(len(res[1])):\n",
    "    plt.imshow(res[1][i].reshape((len(freq_buckets),len(psid_dims))))\n",
    "    plt.show()"
   ]
  },
  {
   "cell_type": "code",
   "execution_count": null,
   "id": "95d71f94",
   "metadata": {},
   "outputs": [],
   "source": []
  }
 ],
 "metadata": {
  "kernelspec": {
   "display_name": "Python 3 (ipykernel)",
   "language": "python",
   "name": "python3"
  },
  "language_info": {
   "codemirror_mode": {
    "name": "ipython",
    "version": 3
   },
   "file_extension": ".py",
   "mimetype": "text/x-python",
   "name": "python",
   "nbconvert_exporter": "python",
   "pygments_lexer": "ipython3",
   "version": "3.7.5"
  }
 },
 "nbformat": 4,
 "nbformat_minor": 5
}
